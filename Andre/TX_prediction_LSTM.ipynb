{
 "cells": [
  {
   "cell_type": "code",
   "execution_count": 1,
   "metadata": {},
   "outputs": [],
   "source": [
    "import numpy as np\n",
    "import pandas as pd\n",
    "import keras.preprocessing.sequence as sequence\n",
    "from keras.models import Sequential\n",
    "from keras.layers import Dense, Dropout, LSTM, Activation\n",
    "from sklearn.preprocessing import MinMaxScaler, StandardScaler\n",
    "import tensorflow as tf\n",
    "from sklearn.metrics import mean_squared_error\n",
    "import matplotlib.pyplot as plt\n",
    "\n",
    "# Load data\n",
    "df = pd.read_csv('data_new.csv')\n",
    "\n",
    "\n",
    "\n",
    "# Split data into train and test\n",
    "train = df[df['交易日期'] < '2020-01-01']\n",
    "test = df[df['交易日期'] >= '2020-01-01']\n",
    "train_original = train.copy()\n",
    "test_original = test.copy()"
   ]
  },
  {
   "cell_type": "code",
   "execution_count": 2,
   "metadata": {},
   "outputs": [
    {
     "data": {
      "text/plain": [
       "Index(['交易日期', '到期月份(週別)', '開盤價', '最高價', '最低價', '收盤價', '漲跌價', '漲跌%', '成交量',\n",
       "       '隔日漲跌價', '隔日收盤', '隔日漲跌', 'slowk', 'slowd', 'K-D', 'upperband',\n",
       "       'middleband', 'lowerband', 'band_width', 'BIAS20', 'BIAS60', 'BIAS5',\n",
       "       'OBV', 'macd', 'macdsignal', 'macdhist', 'RSI'],\n",
       "      dtype='object')"
      ]
     },
     "execution_count": 2,
     "metadata": {},
     "output_type": "execute_result"
    }
   ],
   "source": [
    "train.columns"
   ]
  },
  {
   "cell_type": "code",
   "execution_count": 4,
   "metadata": {},
   "outputs": [
    {
     "data": {
      "text/html": [
       "<div>\n",
       "<style scoped>\n",
       "    .dataframe tbody tr th:only-of-type {\n",
       "        vertical-align: middle;\n",
       "    }\n",
       "\n",
       "    .dataframe tbody tr th {\n",
       "        vertical-align: top;\n",
       "    }\n",
       "\n",
       "    .dataframe thead th {\n",
       "        text-align: right;\n",
       "    }\n",
       "</style>\n",
       "<table border=\"1\" class=\"dataframe\">\n",
       "  <thead>\n",
       "    <tr style=\"text-align: right;\">\n",
       "      <th></th>\n",
       "      <th>交易日期</th>\n",
       "      <th>到期月份(週別)</th>\n",
       "      <th>開盤價</th>\n",
       "      <th>最高價</th>\n",
       "      <th>最低價</th>\n",
       "      <th>收盤價</th>\n",
       "      <th>漲跌價</th>\n",
       "      <th>漲跌%</th>\n",
       "      <th>成交量</th>\n",
       "      <th>隔日漲跌價</th>\n",
       "      <th>...</th>\n",
       "      <th>lowerband</th>\n",
       "      <th>band_width</th>\n",
       "      <th>BIAS20</th>\n",
       "      <th>BIAS60</th>\n",
       "      <th>BIAS5</th>\n",
       "      <th>OBV</th>\n",
       "      <th>macd</th>\n",
       "      <th>macdsignal</th>\n",
       "      <th>macdhist</th>\n",
       "      <th>RSI</th>\n",
       "    </tr>\n",
       "  </thead>\n",
       "  <tbody>\n",
       "    <tr>\n",
       "      <th>0</th>\n",
       "      <td>2013-04-08</td>\n",
       "      <td>2013-04-01</td>\n",
       "      <td>7859</td>\n",
       "      <td>7870</td>\n",
       "      <td>7733</td>\n",
       "      <td>7739</td>\n",
       "      <td>-197</td>\n",
       "      <td>-0.0248</td>\n",
       "      <td>128621</td>\n",
       "      <td>-30.0</td>\n",
       "      <td>...</td>\n",
       "      <td>7717.375865</td>\n",
       "      <td>335.948270</td>\n",
       "      <td>-0.018560</td>\n",
       "      <td>-0.013948</td>\n",
       "      <td>-0.018417</td>\n",
       "      <td>-471573.0</td>\n",
       "      <td>-7.573789</td>\n",
       "      <td>-2.430880</td>\n",
       "      <td>-5.142909</td>\n",
       "      <td>39.234608</td>\n",
       "    </tr>\n",
       "    <tr>\n",
       "      <th>1</th>\n",
       "      <td>2013-04-09</td>\n",
       "      <td>2013-04-01</td>\n",
       "      <td>7717</td>\n",
       "      <td>7750</td>\n",
       "      <td>7697</td>\n",
       "      <td>7709</td>\n",
       "      <td>-28</td>\n",
       "      <td>-0.0036</td>\n",
       "      <td>84475</td>\n",
       "      <td>19.0</td>\n",
       "      <td>...</td>\n",
       "      <td>7695.664314</td>\n",
       "      <td>349.471372</td>\n",
       "      <td>-0.020507</td>\n",
       "      <td>-0.017639</td>\n",
       "      <td>-0.016885</td>\n",
       "      <td>-556048.0</td>\n",
       "      <td>-19.422695</td>\n",
       "      <td>-5.829243</td>\n",
       "      <td>-13.593451</td>\n",
       "      <td>37.446043</td>\n",
       "    </tr>\n",
       "    <tr>\n",
       "      <th>2</th>\n",
       "      <td>2013-04-10</td>\n",
       "      <td>2013-04-01</td>\n",
       "      <td>7737</td>\n",
       "      <td>7745</td>\n",
       "      <td>7713</td>\n",
       "      <td>7728</td>\n",
       "      <td>20</td>\n",
       "      <td>0.0026</td>\n",
       "      <td>59229</td>\n",
       "      <td>90.0</td>\n",
       "      <td>...</td>\n",
       "      <td>7688.404068</td>\n",
       "      <td>332.491865</td>\n",
       "      <td>-0.016124</td>\n",
       "      <td>-0.015019</td>\n",
       "      <td>-0.009612</td>\n",
       "      <td>-496819.0</td>\n",
       "      <td>-26.969014</td>\n",
       "      <td>-10.057197</td>\n",
       "      <td>-16.911817</td>\n",
       "      <td>39.332339</td>\n",
       "    </tr>\n",
       "    <tr>\n",
       "      <th>3</th>\n",
       "      <td>2013-04-11</td>\n",
       "      <td>2013-04-01</td>\n",
       "      <td>7776</td>\n",
       "      <td>7825</td>\n",
       "      <td>7759</td>\n",
       "      <td>7818</td>\n",
       "      <td>92</td>\n",
       "      <td>0.0119</td>\n",
       "      <td>84730</td>\n",
       "      <td>-34.0</td>\n",
       "      <td>...</td>\n",
       "      <td>7692.592288</td>\n",
       "      <td>306.015424</td>\n",
       "      <td>-0.003518</td>\n",
       "      <td>-0.003641</td>\n",
       "      <td>0.004162</td>\n",
       "      <td>-412089.0</td>\n",
       "      <td>-25.394546</td>\n",
       "      <td>-13.124667</td>\n",
       "      <td>-12.269879</td>\n",
       "      <td>47.420424</td>\n",
       "    </tr>\n",
       "    <tr>\n",
       "      <th>4</th>\n",
       "      <td>2013-04-12</td>\n",
       "      <td>2013-04-01</td>\n",
       "      <td>7822</td>\n",
       "      <td>7832</td>\n",
       "      <td>7783</td>\n",
       "      <td>7784</td>\n",
       "      <td>-32</td>\n",
       "      <td>-0.0041</td>\n",
       "      <td>64379</td>\n",
       "      <td>-21.0</td>\n",
       "      <td>...</td>\n",
       "      <td>7695.387027</td>\n",
       "      <td>279.825946</td>\n",
       "      <td>-0.006547</td>\n",
       "      <td>-0.008062</td>\n",
       "      <td>0.003662</td>\n",
       "      <td>-476468.0</td>\n",
       "      <td>-26.583843</td>\n",
       "      <td>-15.816502</td>\n",
       "      <td>-10.767341</td>\n",
       "      <td>44.980726</td>\n",
       "    </tr>\n",
       "    <tr>\n",
       "      <th>...</th>\n",
       "      <td>...</td>\n",
       "      <td>...</td>\n",
       "      <td>...</td>\n",
       "      <td>...</td>\n",
       "      <td>...</td>\n",
       "      <td>...</td>\n",
       "      <td>...</td>\n",
       "      <td>...</td>\n",
       "      <td>...</td>\n",
       "      <td>...</td>\n",
       "      <td>...</td>\n",
       "      <td>...</td>\n",
       "      <td>...</td>\n",
       "      <td>...</td>\n",
       "      <td>...</td>\n",
       "      <td>...</td>\n",
       "      <td>...</td>\n",
       "      <td>...</td>\n",
       "      <td>...</td>\n",
       "      <td>...</td>\n",
       "      <td>...</td>\n",
       "    </tr>\n",
       "    <tr>\n",
       "      <th>2298</th>\n",
       "      <td>2019-12-27</td>\n",
       "      <td>2020-01-01</td>\n",
       "      <td>12007</td>\n",
       "      <td>12026</td>\n",
       "      <td>12000</td>\n",
       "      <td>12025</td>\n",
       "      <td>18</td>\n",
       "      <td>0.0015</td>\n",
       "      <td>11513</td>\n",
       "      <td>44.0</td>\n",
       "      <td>...</td>\n",
       "      <td>11924.440447</td>\n",
       "      <td>204.919106</td>\n",
       "      <td>-0.000158</td>\n",
       "      <td>0.023207</td>\n",
       "      <td>-0.000183</td>\n",
       "      <td>2948690.0</td>\n",
       "      <td>68.423666</td>\n",
       "      <td>82.738683</td>\n",
       "      <td>-14.315017</td>\n",
       "      <td>55.253854</td>\n",
       "    </tr>\n",
       "    <tr>\n",
       "      <th>2299</th>\n",
       "      <td>2019-12-30</td>\n",
       "      <td>2020-01-01</td>\n",
       "      <td>12091</td>\n",
       "      <td>12125</td>\n",
       "      <td>12065</td>\n",
       "      <td>12069</td>\n",
       "      <td>-28</td>\n",
       "      <td>-0.0023</td>\n",
       "      <td>66062</td>\n",
       "      <td>13.0</td>\n",
       "      <td>...</td>\n",
       "      <td>11932.966018</td>\n",
       "      <td>198.667964</td>\n",
       "      <td>0.003050</td>\n",
       "      <td>0.026258</td>\n",
       "      <td>0.002126</td>\n",
       "      <td>3014752.0</td>\n",
       "      <td>67.319536</td>\n",
       "      <td>79.654854</td>\n",
       "      <td>-12.335317</td>\n",
       "      <td>57.711612</td>\n",
       "    </tr>\n",
       "    <tr>\n",
       "      <th>2300</th>\n",
       "      <td>2019-12-30</td>\n",
       "      <td>2020-01-01</td>\n",
       "      <td>12103</td>\n",
       "      <td>12110</td>\n",
       "      <td>12068</td>\n",
       "      <td>12082</td>\n",
       "      <td>-15</td>\n",
       "      <td>-0.0012</td>\n",
       "      <td>18175</td>\n",
       "      <td>-87.0</td>\n",
       "      <td>...</td>\n",
       "      <td>11953.684857</td>\n",
       "      <td>173.530286</td>\n",
       "      <td>0.003451</td>\n",
       "      <td>0.026576</td>\n",
       "      <td>0.001990</td>\n",
       "      <td>3032927.0</td>\n",
       "      <td>66.724340</td>\n",
       "      <td>77.068751</td>\n",
       "      <td>-10.344411</td>\n",
       "      <td>58.437978</td>\n",
       "    </tr>\n",
       "    <tr>\n",
       "      <th>2301</th>\n",
       "      <td>2019-12-31</td>\n",
       "      <td>2020-01-01</td>\n",
       "      <td>12029</td>\n",
       "      <td>12049</td>\n",
       "      <td>11992</td>\n",
       "      <td>11995</td>\n",
       "      <td>-74</td>\n",
       "      <td>-0.0061</td>\n",
       "      <td>74341</td>\n",
       "      <td>28.0</td>\n",
       "      <td>...</td>\n",
       "      <td>11950.809005</td>\n",
       "      <td>168.781990</td>\n",
       "      <td>-0.003340</td>\n",
       "      <td>0.018678</td>\n",
       "      <td>-0.004862</td>\n",
       "      <td>2958586.0</td>\n",
       "      <td>58.557456</td>\n",
       "      <td>73.366492</td>\n",
       "      <td>-14.809036</td>\n",
       "      <td>52.000674</td>\n",
       "    </tr>\n",
       "    <tr>\n",
       "      <th>2302</th>\n",
       "      <td>2019-12-31</td>\n",
       "      <td>2020-01-01</td>\n",
       "      <td>12066</td>\n",
       "      <td>12075</td>\n",
       "      <td>12020</td>\n",
       "      <td>12023</td>\n",
       "      <td>-46</td>\n",
       "      <td>-0.0038</td>\n",
       "      <td>23042</td>\n",
       "      <td>79.0</td>\n",
       "      <td>...</td>\n",
       "      <td>11955.835118</td>\n",
       "      <td>162.629764</td>\n",
       "      <td>-0.001176</td>\n",
       "      <td>0.020452</td>\n",
       "      <td>-0.001312</td>\n",
       "      <td>2981628.0</td>\n",
       "      <td>53.725197</td>\n",
       "      <td>69.438233</td>\n",
       "      <td>-15.713036</td>\n",
       "      <td>53.765878</td>\n",
       "    </tr>\n",
       "  </tbody>\n",
       "</table>\n",
       "<p>2303 rows × 27 columns</p>\n",
       "</div>"
      ],
      "text/plain": [
       "            交易日期    到期月份(週別)    開盤價    最高價    最低價    收盤價  漲跌價     漲跌%     成交量  \\\n",
       "0     2013-04-08  2013-04-01   7859   7870   7733   7739 -197 -0.0248  128621   \n",
       "1     2013-04-09  2013-04-01   7717   7750   7697   7709  -28 -0.0036   84475   \n",
       "2     2013-04-10  2013-04-01   7737   7745   7713   7728   20  0.0026   59229   \n",
       "3     2013-04-11  2013-04-01   7776   7825   7759   7818   92  0.0119   84730   \n",
       "4     2013-04-12  2013-04-01   7822   7832   7783   7784  -32 -0.0041   64379   \n",
       "...          ...         ...    ...    ...    ...    ...  ...     ...     ...   \n",
       "2298  2019-12-27  2020-01-01  12007  12026  12000  12025   18  0.0015   11513   \n",
       "2299  2019-12-30  2020-01-01  12091  12125  12065  12069  -28 -0.0023   66062   \n",
       "2300  2019-12-30  2020-01-01  12103  12110  12068  12082  -15 -0.0012   18175   \n",
       "2301  2019-12-31  2020-01-01  12029  12049  11992  11995  -74 -0.0061   74341   \n",
       "2302  2019-12-31  2020-01-01  12066  12075  12020  12023  -46 -0.0038   23042   \n",
       "\n",
       "      隔日漲跌價  ...     lowerband  band_width    BIAS20    BIAS60     BIAS5  \\\n",
       "0     -30.0  ...   7717.375865  335.948270 -0.018560 -0.013948 -0.018417   \n",
       "1      19.0  ...   7695.664314  349.471372 -0.020507 -0.017639 -0.016885   \n",
       "2      90.0  ...   7688.404068  332.491865 -0.016124 -0.015019 -0.009612   \n",
       "3     -34.0  ...   7692.592288  306.015424 -0.003518 -0.003641  0.004162   \n",
       "4     -21.0  ...   7695.387027  279.825946 -0.006547 -0.008062  0.003662   \n",
       "...     ...  ...           ...         ...       ...       ...       ...   \n",
       "2298   44.0  ...  11924.440447  204.919106 -0.000158  0.023207 -0.000183   \n",
       "2299   13.0  ...  11932.966018  198.667964  0.003050  0.026258  0.002126   \n",
       "2300  -87.0  ...  11953.684857  173.530286  0.003451  0.026576  0.001990   \n",
       "2301   28.0  ...  11950.809005  168.781990 -0.003340  0.018678 -0.004862   \n",
       "2302   79.0  ...  11955.835118  162.629764 -0.001176  0.020452 -0.001312   \n",
       "\n",
       "            OBV       macd  macdsignal   macdhist        RSI  \n",
       "0     -471573.0  -7.573789   -2.430880  -5.142909  39.234608  \n",
       "1     -556048.0 -19.422695   -5.829243 -13.593451  37.446043  \n",
       "2     -496819.0 -26.969014  -10.057197 -16.911817  39.332339  \n",
       "3     -412089.0 -25.394546  -13.124667 -12.269879  47.420424  \n",
       "4     -476468.0 -26.583843  -15.816502 -10.767341  44.980726  \n",
       "...         ...        ...         ...        ...        ...  \n",
       "2298  2948690.0  68.423666   82.738683 -14.315017  55.253854  \n",
       "2299  3014752.0  67.319536   79.654854 -12.335317  57.711612  \n",
       "2300  3032927.0  66.724340   77.068751 -10.344411  58.437978  \n",
       "2301  2958586.0  58.557456   73.366492 -14.809036  52.000674  \n",
       "2302  2981628.0  53.725197   69.438233 -15.713036  53.765878  \n",
       "\n",
       "[2303 rows x 27 columns]"
      ]
     },
     "execution_count": 4,
     "metadata": {},
     "output_type": "execute_result"
    }
   ],
   "source": [
    "train"
   ]
  },
  {
   "cell_type": "code",
   "execution_count": 3,
   "metadata": {},
   "outputs": [],
   "source": [
    "\n",
    "all = ['開盤價', '最高價', '最低價', '收盤價', '漲跌價', '漲跌%', '成交量',\n",
    "       '隔日漲跌價', '隔日漲跌', 'slowk', 'slowd', 'K-D', 'upperband', 'middleband',\n",
    "       'lowerband', 'band_width', 'BIAS20', 'BIAS60', 'BIAS5', 'OBV', 'macd',\n",
    "       'macdsignal', 'macdhist', 'RSI']\n",
    "features = ['開盤價', '最高價', '最低價', '收盤價', '漲跌價', '漲跌%', '成交量',\n",
    "              'slowk', 'slowd', 'K-D', 'upperband', 'middleband',\n",
    "       'lowerband', 'band_width', 'BIAS20', 'BIAS60', 'BIAS5', 'OBV', 'macd',\n",
    "       'macdsignal', 'macdhist', 'RSI']\n",
    "\n",
    "train = train[['收盤價', '隔日收盤']]\n",
    "test = test[['收盤價', '隔日收盤']]\n",
    "\n",
    "\n"
   ]
  },
  {
   "cell_type": "code",
   "execution_count": 4,
   "metadata": {},
   "outputs": [],
   "source": [
    "scalar = MinMaxScaler()\n",
    "train = pd.DataFrame(scalar.fit_transform(train))\n",
    "test = pd.DataFrame(scalar.transform(test))\n",
    "train.columns = ['收盤價', '隔日收盤']\n",
    "test.columns = ['收盤價', '隔日收盤']"
   ]
  },
  {
   "cell_type": "code",
   "execution_count": 5,
   "metadata": {},
   "outputs": [],
   "source": [
    "sequence_length = 60\n",
    "\n",
    "# Convert the data into sequences\n",
    "def create_sequences_and_targets(X, y, sequence_length):\n",
    "    X_seq, y_target = [], []\n",
    "    for i in range(sequence_length, len(X)):\n",
    "        X_seq.append(X.iloc[i - sequence_length : i].values)\n",
    "        y_target.append(y.iloc[i])  # Get the next value as the target\n",
    "    return np.array(X_seq), np.array(y_target)\n",
    "\n",
    "X_train_seq, y_train = create_sequences_and_targets(train['收盤價'], train['隔日收盤'], sequence_length)\n",
    "X_test_seq, y_test = create_sequences_and_targets(test['收盤價'], test['隔日收盤'], sequence_length)"
   ]
  },
  {
   "cell_type": "code",
   "execution_count": 139,
   "metadata": {},
   "outputs": [
    {
     "data": {
      "text/plain": [
       "(2243, 60)"
      ]
     },
     "execution_count": 139,
     "metadata": {},
     "output_type": "execute_result"
    }
   ],
   "source": [
    "X_train_seq.shape"
   ]
  },
  {
   "cell_type": "code",
   "execution_count": 6,
   "metadata": {},
   "outputs": [],
   "source": [
    "X_train_seq = X_train_seq.reshape(X_train_seq.shape[0], X_train_seq.shape[1], 1)\n",
    "X_test_seq = X_test_seq.reshape(X_test_seq.shape[0], X_test_seq.shape[1], 1)"
   ]
  },
  {
   "cell_type": "code",
   "execution_count": 141,
   "metadata": {},
   "outputs": [
    {
     "data": {
      "text/plain": [
       "(2243, 60, 1)"
      ]
     },
     "execution_count": 141,
     "metadata": {},
     "output_type": "execute_result"
    }
   ],
   "source": [
    "X_train_seq.shape"
   ]
  },
  {
   "cell_type": "code",
   "execution_count": 142,
   "metadata": {},
   "outputs": [
    {
     "data": {
      "text/plain": [
       "(2243,)"
      ]
     },
     "execution_count": 142,
     "metadata": {},
     "output_type": "execute_result"
    }
   ],
   "source": [
    "y_train.shape"
   ]
  },
  {
   "cell_type": "code",
   "execution_count": 7,
   "metadata": {},
   "outputs": [
    {
     "name": "stdout",
     "output_type": "stream",
     "text": [
      "Epoch 1/50\n",
      "71/71 [==============================] - 6s 27ms/step - loss: 0.0433\n",
      "Epoch 2/50\n",
      "71/71 [==============================] - 2s 27ms/step - loss: 0.0027\n",
      "Epoch 3/50\n",
      "71/71 [==============================] - 2s 27ms/step - loss: 0.0023\n",
      "Epoch 4/50\n",
      "71/71 [==============================] - 2s 27ms/step - loss: 0.0023\n",
      "Epoch 5/50\n",
      "71/71 [==============================] - 2s 27ms/step - loss: 0.0022\n",
      "Epoch 6/50\n",
      "71/71 [==============================] - 2s 27ms/step - loss: 0.0022\n",
      "Epoch 7/50\n",
      "71/71 [==============================] - 2s 27ms/step - loss: 0.0022\n",
      "Epoch 8/50\n",
      "71/71 [==============================] - 2s 27ms/step - loss: 0.0020\n",
      "Epoch 9/50\n",
      "71/71 [==============================] - 2s 27ms/step - loss: 0.0020\n",
      "Epoch 10/50\n",
      "71/71 [==============================] - 2s 27ms/step - loss: 0.0019\n",
      "Epoch 11/50\n",
      "71/71 [==============================] - 2s 27ms/step - loss: 0.0019\n",
      "Epoch 12/50\n",
      "71/71 [==============================] - 2s 27ms/step - loss: 0.0017\n",
      "Epoch 13/50\n",
      "71/71 [==============================] - 2s 27ms/step - loss: 0.0017\n",
      "Epoch 14/50\n",
      "71/71 [==============================] - 2s 28ms/step - loss: 0.0018\n",
      "Epoch 15/50\n",
      "71/71 [==============================] - 2s 27ms/step - loss: 0.0017\n",
      "Epoch 16/50\n",
      "71/71 [==============================] - 2s 27ms/step - loss: 0.0016\n",
      "Epoch 17/50\n",
      "71/71 [==============================] - 2s 27ms/step - loss: 0.0016\n",
      "Epoch 18/50\n",
      "71/71 [==============================] - 2s 27ms/step - loss: 0.0016\n",
      "Epoch 19/50\n",
      "71/71 [==============================] - 2s 28ms/step - loss: 0.0016\n",
      "Epoch 20/50\n",
      "71/71 [==============================] - 2s 28ms/step - loss: 0.0016\n",
      "Epoch 21/50\n",
      "71/71 [==============================] - 2s 27ms/step - loss: 0.0014\n",
      "Epoch 22/50\n",
      "71/71 [==============================] - 2s 28ms/step - loss: 0.0014\n",
      "Epoch 23/50\n",
      "71/71 [==============================] - 2s 27ms/step - loss: 0.0015\n",
      "Epoch 24/50\n",
      "71/71 [==============================] - 2s 27ms/step - loss: 0.0015\n",
      "Epoch 25/50\n",
      "71/71 [==============================] - 2s 27ms/step - loss: 0.0016\n",
      "Epoch 26/50\n",
      "71/71 [==============================] - 2s 27ms/step - loss: 0.0013\n",
      "Epoch 27/50\n",
      "71/71 [==============================] - 2s 27ms/step - loss: 0.0013\n",
      "Epoch 28/50\n",
      "71/71 [==============================] - 2s 27ms/step - loss: 0.0014\n",
      "Epoch 29/50\n",
      "71/71 [==============================] - 2s 27ms/step - loss: 0.0013\n",
      "Epoch 30/50\n",
      "71/71 [==============================] - 2s 27ms/step - loss: 0.0012\n",
      "Epoch 31/50\n",
      "71/71 [==============================] - 2s 27ms/step - loss: 0.0013\n",
      "Epoch 32/50\n",
      "71/71 [==============================] - 2s 27ms/step - loss: 0.0012\n",
      "Epoch 33/50\n",
      "71/71 [==============================] - 2s 27ms/step - loss: 0.0012\n",
      "Epoch 34/50\n",
      "71/71 [==============================] - 2s 27ms/step - loss: 0.0011\n",
      "Epoch 35/50\n",
      "71/71 [==============================] - 2s 27ms/step - loss: 0.0012\n",
      "Epoch 36/50\n",
      "71/71 [==============================] - 2s 27ms/step - loss: 0.0011\n",
      "Epoch 37/50\n",
      "71/71 [==============================] - 2s 27ms/step - loss: 0.0011\n",
      "Epoch 38/50\n",
      "71/71 [==============================] - 2s 27ms/step - loss: 0.0011\n",
      "Epoch 39/50\n",
      "71/71 [==============================] - 2s 27ms/step - loss: 0.0011\n",
      "Epoch 40/50\n",
      "71/71 [==============================] - 2s 27ms/step - loss: 0.0011\n",
      "Epoch 41/50\n",
      "71/71 [==============================] - 2s 27ms/step - loss: 0.0011\n",
      "Epoch 42/50\n",
      "71/71 [==============================] - 2s 27ms/step - loss: 9.8740e-04\n",
      "Epoch 43/50\n",
      "71/71 [==============================] - 2s 27ms/step - loss: 0.0011\n",
      "Epoch 44/50\n",
      "71/71 [==============================] - 2s 27ms/step - loss: 0.0010\n",
      "Epoch 45/50\n",
      "71/71 [==============================] - 2s 27ms/step - loss: 9.5511e-04\n",
      "Epoch 46/50\n",
      "71/71 [==============================] - 2s 27ms/step - loss: 9.5319e-04\n",
      "Epoch 47/50\n",
      "71/71 [==============================] - 2s 27ms/step - loss: 9.5151e-04\n",
      "Epoch 48/50\n",
      "71/71 [==============================] - 2s 27ms/step - loss: 0.0010\n",
      "Epoch 49/50\n",
      "71/71 [==============================] - 2s 27ms/step - loss: 8.8104e-04\n",
      "Epoch 50/50\n",
      "71/71 [==============================] - 2s 27ms/step - loss: 8.9979e-04\n"
     ]
    },
    {
     "data": {
      "text/plain": [
       "<keras.src.callbacks.History at 0x29d45e749d0>"
      ]
     },
     "execution_count": 7,
     "metadata": {},
     "output_type": "execute_result"
    }
   ],
   "source": [
    "model = Sequential()\n",
    "\n",
    "model.add(LSTM(32, input_shape=(X_train_seq.shape[1], X_train_seq.shape[2]), return_sequences=True))\n",
    "model.add(Dropout(0.1))\n",
    "model.add(LSTM(16, return_sequences=True))\n",
    "model.add(Dropout(0.1))\n",
    "model.add(LSTM(8, return_sequences=False))\n",
    "model.add(Dense(1))\n",
    "\n",
    "\n",
    "\n",
    "model.compile(loss='mse', optimizer='adam')\n",
    "model.fit(X_train_seq, y_train, epochs=50, batch_size=32)\n"
   ]
  },
  {
   "cell_type": "code",
   "execution_count": 8,
   "metadata": {},
   "outputs": [
    {
     "name": "stdout",
     "output_type": "stream",
     "text": [
      "You must install pydot (`pip install pydot`) and install graphviz (see instructions at https://graphviz.gitlab.io/download/) for plot_model to work.\n"
     ]
    }
   ],
   "source": [
    "from keras.utils import plot_model\n",
    "plot_model(model, to_file='model.png')"
   ]
  },
  {
   "cell_type": "code",
   "execution_count": 146,
   "metadata": {},
   "outputs": [
    {
     "name": "stdout",
     "output_type": "stream",
     "text": [
      "45/45 [==============================] - 1s 9ms/step - loss: 0.0306\n",
      "45/45 [==============================] - 1s 8ms/step\n"
     ]
    },
    {
     "data": {
      "text/html": [
       "<div>\n",
       "<style scoped>\n",
       "    .dataframe tbody tr th:only-of-type {\n",
       "        vertical-align: middle;\n",
       "    }\n",
       "\n",
       "    .dataframe tbody tr th {\n",
       "        vertical-align: top;\n",
       "    }\n",
       "\n",
       "    .dataframe thead th {\n",
       "        text-align: right;\n",
       "    }\n",
       "</style>\n",
       "<table border=\"1\" class=\"dataframe\">\n",
       "  <thead>\n",
       "    <tr style=\"text-align: right;\">\n",
       "      <th></th>\n",
       "      <th>0</th>\n",
       "    </tr>\n",
       "  </thead>\n",
       "  <tbody>\n",
       "    <tr>\n",
       "      <th>0</th>\n",
       "      <td>0.919558</td>\n",
       "    </tr>\n",
       "    <tr>\n",
       "      <th>1</th>\n",
       "      <td>0.907127</td>\n",
       "    </tr>\n",
       "    <tr>\n",
       "      <th>2</th>\n",
       "      <td>0.894306</td>\n",
       "    </tr>\n",
       "    <tr>\n",
       "      <th>3</th>\n",
       "      <td>0.883916</td>\n",
       "    </tr>\n",
       "    <tr>\n",
       "      <th>4</th>\n",
       "      <td>0.869551</td>\n",
       "    </tr>\n",
       "    <tr>\n",
       "      <th>...</th>\n",
       "      <td>...</td>\n",
       "    </tr>\n",
       "    <tr>\n",
       "      <th>1404</th>\n",
       "      <td>1.488933</td>\n",
       "    </tr>\n",
       "    <tr>\n",
       "      <th>1405</th>\n",
       "      <td>1.486148</td>\n",
       "    </tr>\n",
       "    <tr>\n",
       "      <th>1406</th>\n",
       "      <td>1.482323</td>\n",
       "    </tr>\n",
       "    <tr>\n",
       "      <th>1407</th>\n",
       "      <td>1.473685</td>\n",
       "    </tr>\n",
       "    <tr>\n",
       "      <th>1408</th>\n",
       "      <td>1.461843</td>\n",
       "    </tr>\n",
       "  </tbody>\n",
       "</table>\n",
       "<p>1409 rows × 1 columns</p>\n",
       "</div>"
      ],
      "text/plain": [
       "             0\n",
       "0     0.919558\n",
       "1     0.907127\n",
       "2     0.894306\n",
       "3     0.883916\n",
       "4     0.869551\n",
       "...        ...\n",
       "1404  1.488933\n",
       "1405  1.486148\n",
       "1406  1.482323\n",
       "1407  1.473685\n",
       "1408  1.461843\n",
       "\n",
       "[1409 rows x 1 columns]"
      ]
     },
     "execution_count": 146,
     "metadata": {},
     "output_type": "execute_result"
    }
   ],
   "source": [
    "model.evaluate(X_test_seq, y_test)\n",
    "\n",
    "predicted = pd.DataFrame(model.predict(X_test_seq))\n",
    "predicted \n"
   ]
  },
  {
   "cell_type": "code",
   "execution_count": 147,
   "metadata": {},
   "outputs": [
    {
     "data": {
      "text/plain": [
       "<matplotlib.legend.Legend at 0x229bc2933d0>"
      ]
     },
     "execution_count": 147,
     "metadata": {},
     "output_type": "execute_result"
    },
    {
     "data": {
      "image/png": "[encoded data removed]",
      "text/plain": [
       "<Figure size 640x480 with 1 Axes>"
      ]
     },
     "metadata": {},
     "output_type": "display_data"
    }
   ],
   "source": [
    "plt.plot(y_test, label='Actual', color='blue')\n",
    "plt.plot(predicted, label='Predicted', color='orange')\n",
    "plt.xlabel('Time')\n",
    "plt.ylabel('Normalized Closing Price')\n",
    "\n",
    "plt.legend()"
   ]
  },
  {
   "cell_type": "code",
   "execution_count": 129,
   "metadata": {},
   "outputs": [
    {
     "data": {
      "text/plain": [
       "<matplotlib.legend.Legend at 0x229a5f17b80>"
      ]
     },
     "execution_count": 129,
     "metadata": {},
     "output_type": "execute_result"
    },
    {
     "data": {
      "image/png": "[encoded data removed]",
      "text/plain": [
       "<Figure size 640x480 with 1 Axes>"
      ]
     },
     "metadata": {},
     "output_type": "display_data"
    }
   ],
   "source": [
    "plt.plot(y_test, label='Actual', color='blue')\n",
    "plt.plot(predicted, label='Predicted', color='red')\n",
    "plt.xlabel('Time')\n",
    "plt.ylabel('Normalized Closing Price')\n",
    "\n",
    "plt.legend()"
   ]
  },
  {
   "cell_type": "code",
   "execution_count": 130,
   "metadata": {},
   "outputs": [
    {
     "data": {
      "text/plain": [
       "<matplotlib.legend.Legend at 0x229a7b4b2b0>"
      ]
     },
     "execution_count": 130,
     "metadata": {},
     "output_type": "execute_result"
    },
    {
     "data": {
      "image/png": "[encoded data removed]",
      "text/plain": [
       "<Figure size 640x480 with 1 Axes>"
      ]
     },
     "metadata": {},
     "output_type": "display_data"
    }
   ],
   "source": [
    "plt.plot(y_test[:100], label='Actual', color='blue')\n",
    "plt.plot(predicted[:100], label='Predicted', color='red')\n",
    "plt.xlabel('Time')\n",
    "plt.ylabel('Normalized Closing Price')\n",
    "\n",
    "plt.legend()"
   ]
  },
  {
   "cell_type": "code",
   "execution_count": null,
   "metadata": {},
   "outputs": [],
   "source": [
    "mean_squared_error(model.predict(X_test))"
   ]
  }
 ],
 "metadata": {
  "kernelspec": {
   "display_name": "Python 3",
   "language": "python",
   "name": "python3"
  },
  "language_info": {
   "codemirror_mode": {
    "name": "ipython",
    "version": 3
   },
   "file_extension": ".py",
   "mimetype": "text/x-python",
   "name": "python",
   "nbconvert_exporter": "python",
   "pygments_lexer": "ipython3",
   "version": "3.10.10"
  },
  "orig_nbformat": 4
 },
 "nbformat": 4,
 "nbformat_minor": 2
}
