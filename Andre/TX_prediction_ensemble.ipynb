{
 "cells": [
  {
   "cell_type": "code",
   "execution_count": 5,
   "metadata": {},
   "outputs": [],
   "source": [
    "from sklearn.ensemble import RandomForestClassifier\n",
    "from sklearn.ensemble import HistGradientBoostingClassifier\n",
    "from sklearn.preprocessing import MinMaxScaler, RobustScaler, StandardScaler\n",
    "from sklearn.decomposition import PCA\n",
    "from sklearn.manifold import TSNE\n",
    "from sklearn.model_selection import GridSearchCV, RandomizedSearchCV\n",
    "from sklearn.metrics import roc_auc_score, f1_score, precision_score, recall_score\n",
    "from sklearn import svm\n",
    "from sklearn.cluster import KMeans\n",
    "import pandas as pd\n",
    "import numpy as np\n",
    "import matplotlib.pyplot as plt"
   ]
  },
  {
   "cell_type": "code",
   "execution_count": 6,
   "metadata": {},
   "outputs": [],
   "source": [
    "df = pd.read_csv('data_new.csv')"
   ]
  },
  {
   "cell_type": "code",
   "execution_count": 7,
   "metadata": {},
   "outputs": [
    {
     "data": {
      "text/plain": [
       "Index(['交易日期', '到期月份(週別)', '開盤價', '最高價', '最低價', '收盤價', '漲跌價', '漲跌%', '成交量',\n",
       "       '隔日漲跌價', '隔日收盤', '隔日漲跌', 'slowk', 'slowd', 'K-D', 'upperband',\n",
       "       'middleband', 'lowerband', 'band_width', 'BIAS20', 'BIAS60', 'BIAS5',\n",
       "       'OBV', 'macd', 'macdsignal', 'macdhist', 'RSI'],\n",
       "      dtype='object')"
      ]
     },
     "execution_count": 7,
     "metadata": {},
     "output_type": "execute_result"
    }
   ],
   "source": [
    "\n",
    "df.columns"
   ]
  },
  {
   "cell_type": "code",
   "execution_count": 4,
   "metadata": {},
   "outputs": [
    {
     "data": {
      "text/html": [
       "<div>\n",
       "<style scoped>\n",
       "    .dataframe tbody tr th:only-of-type {\n",
       "        vertical-align: middle;\n",
       "    }\n",
       "\n",
       "    .dataframe tbody tr th {\n",
       "        vertical-align: top;\n",
       "    }\n",
       "\n",
       "    .dataframe thead th {\n",
       "        text-align: right;\n",
       "    }\n",
       "</style>\n",
       "<table border=\"1\" class=\"dataframe\">\n",
       "  <thead>\n",
       "    <tr style=\"text-align: right;\">\n",
       "      <th></th>\n",
       "      <th>交易日期</th>\n",
       "      <th>到期月份(週別)</th>\n",
       "      <th>開盤價</th>\n",
       "      <th>最高價</th>\n",
       "      <th>最低價</th>\n",
       "      <th>收盤價</th>\n",
       "      <th>漲跌價</th>\n",
       "      <th>漲跌%</th>\n",
       "      <th>成交量</th>\n",
       "      <th>隔日漲跌價</th>\n",
       "      <th>...</th>\n",
       "      <th>lowerband</th>\n",
       "      <th>band_width</th>\n",
       "      <th>BIAS20</th>\n",
       "      <th>BIAS60</th>\n",
       "      <th>BIAS5</th>\n",
       "      <th>OBV</th>\n",
       "      <th>macd</th>\n",
       "      <th>macdsignal</th>\n",
       "      <th>macdhist</th>\n",
       "      <th>RSI</th>\n",
       "    </tr>\n",
       "  </thead>\n",
       "  <tbody>\n",
       "    <tr>\n",
       "      <th>0</th>\n",
       "      <td>2013-04-08</td>\n",
       "      <td>2013-04-01</td>\n",
       "      <td>7859</td>\n",
       "      <td>7870</td>\n",
       "      <td>7733</td>\n",
       "      <td>7739</td>\n",
       "      <td>-197</td>\n",
       "      <td>-0.0248</td>\n",
       "      <td>128621</td>\n",
       "      <td>-30.0</td>\n",
       "      <td>...</td>\n",
       "      <td>7717.375865</td>\n",
       "      <td>335.948270</td>\n",
       "      <td>-0.018560</td>\n",
       "      <td>-0.013948</td>\n",
       "      <td>-0.018417</td>\n",
       "      <td>-471573.0</td>\n",
       "      <td>-7.573789</td>\n",
       "      <td>-2.430880</td>\n",
       "      <td>-5.142909</td>\n",
       "      <td>39.234608</td>\n",
       "    </tr>\n",
       "    <tr>\n",
       "      <th>1</th>\n",
       "      <td>2013-04-09</td>\n",
       "      <td>2013-04-01</td>\n",
       "      <td>7717</td>\n",
       "      <td>7750</td>\n",
       "      <td>7697</td>\n",
       "      <td>7709</td>\n",
       "      <td>-28</td>\n",
       "      <td>-0.0036</td>\n",
       "      <td>84475</td>\n",
       "      <td>19.0</td>\n",
       "      <td>...</td>\n",
       "      <td>7695.664314</td>\n",
       "      <td>349.471372</td>\n",
       "      <td>-0.020507</td>\n",
       "      <td>-0.017639</td>\n",
       "      <td>-0.016885</td>\n",
       "      <td>-556048.0</td>\n",
       "      <td>-19.422695</td>\n",
       "      <td>-5.829243</td>\n",
       "      <td>-13.593451</td>\n",
       "      <td>37.446043</td>\n",
       "    </tr>\n",
       "    <tr>\n",
       "      <th>2</th>\n",
       "      <td>2013-04-10</td>\n",
       "      <td>2013-04-01</td>\n",
       "      <td>7737</td>\n",
       "      <td>7745</td>\n",
       "      <td>7713</td>\n",
       "      <td>7728</td>\n",
       "      <td>20</td>\n",
       "      <td>0.0026</td>\n",
       "      <td>59229</td>\n",
       "      <td>90.0</td>\n",
       "      <td>...</td>\n",
       "      <td>7688.404068</td>\n",
       "      <td>332.491865</td>\n",
       "      <td>-0.016124</td>\n",
       "      <td>-0.015019</td>\n",
       "      <td>-0.009612</td>\n",
       "      <td>-496819.0</td>\n",
       "      <td>-26.969014</td>\n",
       "      <td>-10.057197</td>\n",
       "      <td>-16.911817</td>\n",
       "      <td>39.332339</td>\n",
       "    </tr>\n",
       "    <tr>\n",
       "      <th>3</th>\n",
       "      <td>2013-04-11</td>\n",
       "      <td>2013-04-01</td>\n",
       "      <td>7776</td>\n",
       "      <td>7825</td>\n",
       "      <td>7759</td>\n",
       "      <td>7818</td>\n",
       "      <td>92</td>\n",
       "      <td>0.0119</td>\n",
       "      <td>84730</td>\n",
       "      <td>-34.0</td>\n",
       "      <td>...</td>\n",
       "      <td>7692.592288</td>\n",
       "      <td>306.015424</td>\n",
       "      <td>-0.003518</td>\n",
       "      <td>-0.003641</td>\n",
       "      <td>0.004162</td>\n",
       "      <td>-412089.0</td>\n",
       "      <td>-25.394546</td>\n",
       "      <td>-13.124667</td>\n",
       "      <td>-12.269879</td>\n",
       "      <td>47.420424</td>\n",
       "    </tr>\n",
       "    <tr>\n",
       "      <th>4</th>\n",
       "      <td>2013-04-12</td>\n",
       "      <td>2013-04-01</td>\n",
       "      <td>7822</td>\n",
       "      <td>7832</td>\n",
       "      <td>7783</td>\n",
       "      <td>7784</td>\n",
       "      <td>-32</td>\n",
       "      <td>-0.0041</td>\n",
       "      <td>64379</td>\n",
       "      <td>-21.0</td>\n",
       "      <td>...</td>\n",
       "      <td>7695.387027</td>\n",
       "      <td>279.825946</td>\n",
       "      <td>-0.006547</td>\n",
       "      <td>-0.008062</td>\n",
       "      <td>0.003662</td>\n",
       "      <td>-476468.0</td>\n",
       "      <td>-26.583843</td>\n",
       "      <td>-15.816502</td>\n",
       "      <td>-10.767341</td>\n",
       "      <td>44.980726</td>\n",
       "    </tr>\n",
       "    <tr>\n",
       "      <th>...</th>\n",
       "      <td>...</td>\n",
       "      <td>...</td>\n",
       "      <td>...</td>\n",
       "      <td>...</td>\n",
       "      <td>...</td>\n",
       "      <td>...</td>\n",
       "      <td>...</td>\n",
       "      <td>...</td>\n",
       "      <td>...</td>\n",
       "      <td>...</td>\n",
       "      <td>...</td>\n",
       "      <td>...</td>\n",
       "      <td>...</td>\n",
       "      <td>...</td>\n",
       "      <td>...</td>\n",
       "      <td>...</td>\n",
       "      <td>...</td>\n",
       "      <td>...</td>\n",
       "      <td>...</td>\n",
       "      <td>...</td>\n",
       "      <td>...</td>\n",
       "    </tr>\n",
       "    <tr>\n",
       "      <th>3767</th>\n",
       "      <td>2022-12-28</td>\n",
       "      <td>2023-01-01</td>\n",
       "      <td>14190</td>\n",
       "      <td>14195</td>\n",
       "      <td>14070</td>\n",
       "      <td>14110</td>\n",
       "      <td>-195</td>\n",
       "      <td>-0.0136</td>\n",
       "      <td>84583</td>\n",
       "      <td>129.0</td>\n",
       "      <td>...</td>\n",
       "      <td>14018.654978</td>\n",
       "      <td>636.790044</td>\n",
       "      <td>-0.015837</td>\n",
       "      <td>-0.030197</td>\n",
       "      <td>-0.007959</td>\n",
       "      <td>1277773.0</td>\n",
       "      <td>-97.257386</td>\n",
       "      <td>-88.181003</td>\n",
       "      <td>-9.076383</td>\n",
       "      <td>39.731027</td>\n",
       "    </tr>\n",
       "    <tr>\n",
       "      <th>3768</th>\n",
       "      <td>2022-12-28</td>\n",
       "      <td>2023-01-01</td>\n",
       "      <td>14310</td>\n",
       "      <td>14320</td>\n",
       "      <td>14214</td>\n",
       "      <td>14239</td>\n",
       "      <td>-66</td>\n",
       "      <td>-0.0046</td>\n",
       "      <td>34947</td>\n",
       "      <td>-207.0</td>\n",
       "      <td>...</td>\n",
       "      <td>14022.071726</td>\n",
       "      <td>593.856548</td>\n",
       "      <td>-0.005587</td>\n",
       "      <td>-0.020814</td>\n",
       "      <td>0.001195</td>\n",
       "      <td>1312720.0</td>\n",
       "      <td>-91.901233</td>\n",
       "      <td>-88.925049</td>\n",
       "      <td>-2.976183</td>\n",
       "      <td>45.434656</td>\n",
       "    </tr>\n",
       "    <tr>\n",
       "      <th>3769</th>\n",
       "      <td>2022-12-29</td>\n",
       "      <td>2023-01-01</td>\n",
       "      <td>13960</td>\n",
       "      <td>14072</td>\n",
       "      <td>13938</td>\n",
       "      <td>14032</td>\n",
       "      <td>-80</td>\n",
       "      <td>-0.0057</td>\n",
       "      <td>78436</td>\n",
       "      <td>-45.0</td>\n",
       "      <td>...</td>\n",
       "      <td>14020.991295</td>\n",
       "      <td>528.417411</td>\n",
       "      <td>-0.017725</td>\n",
       "      <td>-0.034516</td>\n",
       "      <td>-0.010856</td>\n",
       "      <td>1234284.0</td>\n",
       "      <td>-103.170329</td>\n",
       "      <td>-91.774105</td>\n",
       "      <td>-11.396224</td>\n",
       "      <td>39.048656</td>\n",
       "    </tr>\n",
       "    <tr>\n",
       "      <th>3770</th>\n",
       "      <td>2022-12-29</td>\n",
       "      <td>2023-01-01</td>\n",
       "      <td>14127</td>\n",
       "      <td>14168</td>\n",
       "      <td>13976</td>\n",
       "      <td>13987</td>\n",
       "      <td>-125</td>\n",
       "      <td>-0.0089</td>\n",
       "      <td>49467</td>\n",
       "      <td>147.0</td>\n",
       "      <td>...</td>\n",
       "      <td>14005.257042</td>\n",
       "      <td>496.985915</td>\n",
       "      <td>-0.018714</td>\n",
       "      <td>-0.037122</td>\n",
       "      <td>-0.009616</td>\n",
       "      <td>1184817.0</td>\n",
       "      <td>-114.413406</td>\n",
       "      <td>-96.301965</td>\n",
       "      <td>-18.111441</td>\n",
       "      <td>37.804675</td>\n",
       "    </tr>\n",
       "    <tr>\n",
       "      <th>3771</th>\n",
       "      <td>2022-12-30</td>\n",
       "      <td>2023-01-01</td>\n",
       "      <td>14193</td>\n",
       "      <td>14213</td>\n",
       "      <td>14127</td>\n",
       "      <td>14134</td>\n",
       "      <td>100</td>\n",
       "      <td>0.0071</td>\n",
       "      <td>61365</td>\n",
       "      <td>77.0</td>\n",
       "      <td>...</td>\n",
       "      <td>14002.970992</td>\n",
       "      <td>468.858017</td>\n",
       "      <td>-0.007263</td>\n",
       "      <td>-0.026639</td>\n",
       "      <td>0.002383</td>\n",
       "      <td>1246182.0</td>\n",
       "      <td>-110.191733</td>\n",
       "      <td>-99.079919</td>\n",
       "      <td>-11.111814</td>\n",
       "      <td>44.072577</td>\n",
       "    </tr>\n",
       "  </tbody>\n",
       "</table>\n",
       "<p>3772 rows × 27 columns</p>\n",
       "</div>"
      ],
      "text/plain": [
       "            交易日期    到期月份(週別)    開盤價    最高價    最低價    收盤價  漲跌價     漲跌%     成交量  \\\n",
       "0     2013-04-08  2013-04-01   7859   7870   7733   7739 -197 -0.0248  128621   \n",
       "1     2013-04-09  2013-04-01   7717   7750   7697   7709  -28 -0.0036   84475   \n",
       "2     2013-04-10  2013-04-01   7737   7745   7713   7728   20  0.0026   59229   \n",
       "3     2013-04-11  2013-04-01   7776   7825   7759   7818   92  0.0119   84730   \n",
       "4     2013-04-12  2013-04-01   7822   7832   7783   7784  -32 -0.0041   64379   \n",
       "...          ...         ...    ...    ...    ...    ...  ...     ...     ...   \n",
       "3767  2022-12-28  2023-01-01  14190  14195  14070  14110 -195 -0.0136   84583   \n",
       "3768  2022-12-28  2023-01-01  14310  14320  14214  14239  -66 -0.0046   34947   \n",
       "3769  2022-12-29  2023-01-01  13960  14072  13938  14032  -80 -0.0057   78436   \n",
       "3770  2022-12-29  2023-01-01  14127  14168  13976  13987 -125 -0.0089   49467   \n",
       "3771  2022-12-30  2023-01-01  14193  14213  14127  14134  100  0.0071   61365   \n",
       "\n",
       "      隔日漲跌價  ...     lowerband  band_width    BIAS20    BIAS60     BIAS5  \\\n",
       "0     -30.0  ...   7717.375865  335.948270 -0.018560 -0.013948 -0.018417   \n",
       "1      19.0  ...   7695.664314  349.471372 -0.020507 -0.017639 -0.016885   \n",
       "2      90.0  ...   7688.404068  332.491865 -0.016124 -0.015019 -0.009612   \n",
       "3     -34.0  ...   7692.592288  306.015424 -0.003518 -0.003641  0.004162   \n",
       "4     -21.0  ...   7695.387027  279.825946 -0.006547 -0.008062  0.003662   \n",
       "...     ...  ...           ...         ...       ...       ...       ...   \n",
       "3767  129.0  ...  14018.654978  636.790044 -0.015837 -0.030197 -0.007959   \n",
       "3768 -207.0  ...  14022.071726  593.856548 -0.005587 -0.020814  0.001195   \n",
       "3769  -45.0  ...  14020.991295  528.417411 -0.017725 -0.034516 -0.010856   \n",
       "3770  147.0  ...  14005.257042  496.985915 -0.018714 -0.037122 -0.009616   \n",
       "3771   77.0  ...  14002.970992  468.858017 -0.007263 -0.026639  0.002383   \n",
       "\n",
       "            OBV        macd  macdsignal   macdhist        RSI  \n",
       "0     -471573.0   -7.573789   -2.430880  -5.142909  39.234608  \n",
       "1     -556048.0  -19.422695   -5.829243 -13.593451  37.446043  \n",
       "2     -496819.0  -26.969014  -10.057197 -16.911817  39.332339  \n",
       "3     -412089.0  -25.394546  -13.124667 -12.269879  47.420424  \n",
       "4     -476468.0  -26.583843  -15.816502 -10.767341  44.980726  \n",
       "...         ...         ...         ...        ...        ...  \n",
       "3767  1277773.0  -97.257386  -88.181003  -9.076383  39.731027  \n",
       "3768  1312720.0  -91.901233  -88.925049  -2.976183  45.434656  \n",
       "3769  1234284.0 -103.170329  -91.774105 -11.396224  39.048656  \n",
       "3770  1184817.0 -114.413406  -96.301965 -18.111441  37.804675  \n",
       "3771  1246182.0 -110.191733  -99.079919 -11.111814  44.072577  \n",
       "\n",
       "[3772 rows x 27 columns]"
      ]
     },
     "execution_count": 4,
     "metadata": {},
     "output_type": "execute_result"
    }
   ],
   "source": [
    "df"
   ]
  },
  {
   "cell_type": "code",
   "execution_count": 73,
   "metadata": {},
   "outputs": [
    {
     "name": "stdout",
     "output_type": "stream",
     "text": [
      "0.5625524769101595\n"
     ]
    },
    {
     "data": {
      "text/plain": [
       "0.5618650043719854"
      ]
     },
     "execution_count": 73,
     "metadata": {},
     "output_type": "execute_result"
    }
   ],
   "source": [
    "tSNE = PCA(n_components=12, random_state=0)\n",
    "train = df[df['交易日期'] < '2020-08-01']\n",
    "test = df[df['交易日期'] >= '2020-08-01']\n",
    "X_train = pd.DataFrame(tSNE.fit_transform(train[['開盤價', '最高價', '最低價', '收盤價', '漲跌價', '漲跌%', '成交量',\n",
    "       'slowk', 'slowd', 'K-D', 'upperband', 'middleband', 'lowerband',\n",
    "       'band_width', 'BIAS20', 'BIAS60', 'BIAS5', 'OBV', 'macd', 'macdsignal',\n",
    "       'macdhist', 'RSI']]))\n",
    "X_test = pd.DataFrame(tSNE.fit_transform(test[['開盤價', '最高價', '最低價', '收盤價', '漲跌價', '漲跌%', '成交量',\n",
    "       'slowk', 'slowd', 'K-D', 'upperband', 'middleband', 'lowerband',\n",
    "       'band_width', 'BIAS20', 'BIAS60', 'BIAS5', 'OBV', 'macd', 'macdsignal',\n",
    "       'macdhist', 'RSI']]))\n",
    "model_tsne = HistGradientBoostingClassifier(random_state=0)\n",
    "model_tsne.fit(X_train, train['隔日漲跌'])\n",
    "print(model_tsne.score(X_test, test['隔日漲跌']))\n",
    "roc_auc_score(y_true=test['隔日漲跌'], y_score=model_tsne.predict(X_test))"
   ]
  },
  {
   "cell_type": "code",
   "execution_count": 8,
   "metadata": {},
   "outputs": [
    {
     "name": "stderr",
     "output_type": "stream",
     "text": [
      "C:\\Users\\Swifte\\AppData\\Roaming\\Python\\Python310\\site-packages\\sklearn\\cluster\\_kmeans.py:870: FutureWarning: The default value of `n_init` will change from 10 to 'auto' in 1.4. Set the value of `n_init` explicitly to suppress the warning\n",
      "  warnings.warn(\n",
      "C:\\Users\\Swifte\\AppData\\Local\\Temp\\ipykernel_33484\\1845893550.py:4: SettingWithCopyWarning: \n",
      "A value is trying to be set on a copy of a slice from a DataFrame.\n",
      "Try using .loc[row_indexer,col_indexer] = value instead\n",
      "\n",
      "See the caveats in the documentation: https://pandas.pydata.org/pandas-docs/stable/user_guide/indexing.html#returning-a-view-versus-a-copy\n",
      "  df['漲跌category'] = cluster.fit_predict(df[['漲跌%']])\n",
      "C:\\Users\\Swifte\\AppData\\Local\\Temp\\ipykernel_33484\\1845893550.py:5: SettingWithCopyWarning: \n",
      "A value is trying to be set on a copy of a slice from a DataFrame.\n",
      "Try using .loc[row_indexer,col_indexer] = value instead\n",
      "\n",
      "See the caveats in the documentation: https://pandas.pydata.org/pandas-docs/stable/user_guide/indexing.html#returning-a-view-versus-a-copy\n",
      "  df['最高價_to_upper'] = df['最高價'] - df['upperband']\n",
      "C:\\Users\\Swifte\\AppData\\Local\\Temp\\ipykernel_33484\\1845893550.py:6: SettingWithCopyWarning: \n",
      "A value is trying to be set on a copy of a slice from a DataFrame.\n",
      "Try using .loc[row_indexer,col_indexer] = value instead\n",
      "\n",
      "See the caveats in the documentation: https://pandas.pydata.org/pandas-docs/stable/user_guide/indexing.html#returning-a-view-versus-a-copy\n",
      "  df['最低價_to_lower'] = df['lowerband'] - df['最低價']\n",
      "C:\\Users\\Swifte\\AppData\\Local\\Temp\\ipykernel_33484\\1845893550.py:7: SettingWithCopyWarning: \n",
      "A value is trying to be set on a copy of a slice from a DataFrame.\n",
      "Try using .loc[row_indexer,col_indexer] = value instead\n",
      "\n",
      "See the caveats in the documentation: https://pandas.pydata.org/pandas-docs/stable/user_guide/indexing.html#returning-a-view-versus-a-copy\n",
      "  df['close_to_upper'] = df['收盤價'] - df['upperband']\n",
      "C:\\Users\\Swifte\\AppData\\Local\\Temp\\ipykernel_33484\\1845893550.py:8: SettingWithCopyWarning: \n",
      "A value is trying to be set on a copy of a slice from a DataFrame.\n",
      "Try using .loc[row_indexer,col_indexer] = value instead\n",
      "\n",
      "See the caveats in the documentation: https://pandas.pydata.org/pandas-docs/stable/user_guide/indexing.html#returning-a-view-versus-a-copy\n",
      "  df['close_to_lower'] = df['lowerband'] - df['收盤價']\n",
      "C:\\Users\\Swifte\\AppData\\Roaming\\Python\\Python310\\site-packages\\sklearn\\cluster\\_kmeans.py:870: FutureWarning: The default value of `n_init` will change from 10 to 'auto' in 1.4. Set the value of `n_init` explicitly to suppress the warning\n",
      "  warnings.warn(\n",
      "C:\\Users\\Swifte\\AppData\\Local\\Temp\\ipykernel_33484\\1845893550.py:4: SettingWithCopyWarning: \n",
      "A value is trying to be set on a copy of a slice from a DataFrame.\n",
      "Try using .loc[row_indexer,col_indexer] = value instead\n",
      "\n",
      "See the caveats in the documentation: https://pandas.pydata.org/pandas-docs/stable/user_guide/indexing.html#returning-a-view-versus-a-copy\n",
      "  df['漲跌category'] = cluster.fit_predict(df[['漲跌%']])\n",
      "C:\\Users\\Swifte\\AppData\\Local\\Temp\\ipykernel_33484\\1845893550.py:5: SettingWithCopyWarning: \n",
      "A value is trying to be set on a copy of a slice from a DataFrame.\n",
      "Try using .loc[row_indexer,col_indexer] = value instead\n",
      "\n",
      "See the caveats in the documentation: https://pandas.pydata.org/pandas-docs/stable/user_guide/indexing.html#returning-a-view-versus-a-copy\n",
      "  df['最高價_to_upper'] = df['最高價'] - df['upperband']\n",
      "C:\\Users\\Swifte\\AppData\\Local\\Temp\\ipykernel_33484\\1845893550.py:6: SettingWithCopyWarning: \n",
      "A value is trying to be set on a copy of a slice from a DataFrame.\n",
      "Try using .loc[row_indexer,col_indexer] = value instead\n",
      "\n",
      "See the caveats in the documentation: https://pandas.pydata.org/pandas-docs/stable/user_guide/indexing.html#returning-a-view-versus-a-copy\n",
      "  df['最低價_to_lower'] = df['lowerband'] - df['最低價']\n",
      "C:\\Users\\Swifte\\AppData\\Local\\Temp\\ipykernel_33484\\1845893550.py:7: SettingWithCopyWarning: \n",
      "A value is trying to be set on a copy of a slice from a DataFrame.\n",
      "Try using .loc[row_indexer,col_indexer] = value instead\n",
      "\n",
      "See the caveats in the documentation: https://pandas.pydata.org/pandas-docs/stable/user_guide/indexing.html#returning-a-view-versus-a-copy\n",
      "  df['close_to_upper'] = df['收盤價'] - df['upperband']\n",
      "C:\\Users\\Swifte\\AppData\\Local\\Temp\\ipykernel_33484\\1845893550.py:8: SettingWithCopyWarning: \n",
      "A value is trying to be set on a copy of a slice from a DataFrame.\n",
      "Try using .loc[row_indexer,col_indexer] = value instead\n",
      "\n",
      "See the caveats in the documentation: https://pandas.pydata.org/pandas-docs/stable/user_guide/indexing.html#returning-a-view-versus-a-copy\n",
      "  df['close_to_lower'] = df['lowerband'] - df['收盤價']\n"
     ]
    },
    {
     "name": "stdout",
     "output_type": "stream",
     "text": [
      "(2581, 27) (1191, 27)\n",
      "(2581,) (1191,)\n",
      "(1191, 26)\n",
      "(2581, 27) (1191, 27)\n",
      "(2581,) (1191,)\n"
     ]
    }
   ],
   "source": [
    "scalar = MinMaxScaler()\n",
    "def preprocessing(df):\n",
    "    cluster = KMeans(n_clusters = 4)\n",
    "    df['漲跌category'] = cluster.fit_predict(df[['漲跌%']])\n",
    "    df['最高價_to_upper'] = df['最高價'] - df['upperband']\n",
    "    df['最低價_to_lower'] = df['lowerband'] - df['最低價'] \n",
    "    df['close_to_upper'] = df['收盤價'] - df['upperband']\n",
    "    df['close_to_lower'] = df['lowerband'] - df['收盤價']\n",
    "    \n",
    "    X = df[['開盤價', '最高價', '最低價', '收盤價', '漲跌價', '漲跌%', '成交量',\n",
    "       'slowk', 'slowd', 'K-D', 'upperband', 'middleband', 'lowerband',\n",
    "       'band_width', 'BIAS20', 'BIAS60', 'BIAS5', 'OBV', 'macd', 'macdsignal',\n",
    "       'macdhist', 'RSI', '最高價_to_upper', '最低價_to_lower', 'close_to_upper', 'close_to_lower', '漲跌category']]\n",
    "    y = df['隔日漲跌']\n",
    "    return X, y\n",
    "\n",
    "train = df[df['交易日期'] < '2020-08-01']\n",
    "test = df[df['交易日期'] >= '2020-08-01']\n",
    "\n",
    "X_train, y_train = preprocessing(train)\n",
    "X_test, y_test = preprocessing(test)\n",
    "print(X_train.shape, X_test.shape)\n",
    "print(y_train.shape, y_test.shape)\n",
    "\n",
    "X_train = pd.concat([pd.DataFrame(X_train['漲跌category']), pd.DataFrame(scalar.fit_transform(X_train[['開盤價', '最高價', '最低價', '收盤價', '漲跌價', '漲跌%', '成交量',\n",
    "       'slowk', 'slowd', 'K-D', 'upperband', 'middleband', 'lowerband',\n",
    "       'band_width', 'BIAS20', 'BIAS60', 'BIAS5', 'OBV', 'macd', 'macdsignal',\n",
    "       'macdhist', 'RSI', '最高價_to_upper', '最低價_to_lower', 'close_to_upper', 'close_to_lower']]))], axis = 1)\n",
    "print(scalar.transform(X_test[['開盤價', '最高價', '最低價', '收盤價', '漲跌價', '漲跌%', '成交量',\n",
    "       'slowk', 'slowd', 'K-D', 'upperband', 'middleband', 'lowerband',\n",
    "       'band_width', 'BIAS20', 'BIAS60', 'BIAS5', 'OBV', 'macd', 'macdsignal',\n",
    "       'macdhist', 'RSI', '最高價_to_upper', '最低價_to_lower', 'close_to_upper', 'close_to_lower']]).shape)\n",
    "\n",
    "\n",
    "X_test = pd.concat([X_test['漲跌category'].reset_index(drop = True), pd.DataFrame(scalar.transform(X_test[['開盤價', '最高價', '最低價', '收盤價', '漲跌價', '漲跌%', '成交量',\n",
    "       'slowk', 'slowd', 'K-D', 'upperband', 'middleband', 'lowerband',\n",
    "       'band_width', 'BIAS20', 'BIAS60', 'BIAS5', 'OBV', 'macd', 'macdsignal',\n",
    "       'macdhist', 'RSI', '最高價_to_upper', '最低價_to_lower', 'close_to_upper', 'close_to_lower']])).reset_index(drop = True)], axis = 1)\n",
    "print(X_train.shape, X_test.shape)\n",
    "print(y_train.shape, y_test.shape)"
   ]
  },
  {
   "cell_type": "code",
   "execution_count": 13,
   "metadata": {},
   "outputs": [
    {
     "data": {
      "text/plain": [
       "Index(['漲跌category',            0,            1,            2,            3,\n",
       "                  4,            5,            6,            7,            8,\n",
       "                  9,           10,           11,           12,           13,\n",
       "                 14,           15,           16,           17,           18,\n",
       "                 19,           20,           21,           22,           23,\n",
       "                 24,           25],\n",
       "      dtype='object')"
      ]
     },
     "execution_count": 13,
     "metadata": {},
     "output_type": "execute_result"
    }
   ],
   "source": [
    "X_test.columns"
   ]
  },
  {
   "cell_type": "code",
   "execution_count": 14,
   "metadata": {},
   "outputs": [
    {
     "data": {
      "text/plain": [
       "Index(['漲跌category',            0,            1,            2,            3,\n",
       "                  4,            5,            6,            7,            8,\n",
       "                  9,           10,           11,           12,           13,\n",
       "                 14,           15,           16,           17,           18,\n",
       "                 19,           20,           21,           22,           23,\n",
       "                 24,           25],\n",
       "      dtype='object')"
      ]
     },
     "execution_count": 14,
     "metadata": {},
     "output_type": "execute_result"
    }
   ],
   "source": [
    "X_train.columns"
   ]
  },
  {
   "cell_type": "code",
   "execution_count": 9,
   "metadata": {},
   "outputs": [],
   "source": [
    "X_train.columns = X_train.columns.astype(str)\n",
    "X_test.columns = X_test.columns.astype(str)"
   ]
  },
  {
   "cell_type": "code",
   "execution_count": 9,
   "metadata": {},
   "outputs": [
    {
     "data": {
      "image/png": "[encoded data removed]",
      "text/plain": [
       "<Figure size 640x480 with 1 Axes>"
      ]
     },
     "metadata": {},
     "output_type": "display_data"
    }
   ],
   "source": [
    "df['開盤價_sqrt'].plot(kind='hist', bins=20)\n",
    "scalar = MinMaxScaler()\n",
    "df['開盤價_sqrt_normalize'] = scalar.fit_transform(df['開盤價_sqrt'].values.reshape(-1, 1))"
   ]
  },
  {
   "cell_type": "code",
   "execution_count": 10,
   "metadata": {},
   "outputs": [
    {
     "data": {
      "text/plain": [
       "<AxesSubplot: ylabel='Frequency'>"
      ]
     },
     "execution_count": 10,
     "metadata": {},
     "output_type": "execute_result"
    },
    {
     "data": {
      "image/png": "[encoded data removed]",
      "text/plain": [
       "<Figure size 640x480 with 1 Axes>"
      ]
     },
     "metadata": {},
     "output_type": "display_data"
    }
   ],
   "source": [
    "df['開盤價_sqrt_normalize'].plot(kind='hist', bins=20)"
   ]
  },
  {
   "cell_type": "code",
   "execution_count": 85,
   "metadata": {},
   "outputs": [
    {
     "data": {
      "text/plain": [
       "Index(['交易日期', '到期月份(週別)', '開盤價', '最高價', '最低價', '收盤價', '漲跌價', '漲跌%', '成交量',\n",
       "       '隔日漲跌價', '隔日漲跌', 'slowk', 'slowd', 'K-D', 'upperband', 'middleband',\n",
       "       'lowerband', 'band_width', 'BIAS20', 'BIAS60', 'BIAS5', 'OBV', 'macd',\n",
       "       'macdsignal', 'macdhist', 'RSI'],\n",
       "      dtype='object')"
      ]
     },
     "execution_count": 85,
     "metadata": {},
     "output_type": "execute_result"
    }
   ],
   "source": [
    "df.columns"
   ]
  },
  {
   "cell_type": "code",
   "execution_count": 41,
   "metadata": {},
   "outputs": [],
   "source": [
    "X_train.rename({'漲跌category': int(26)}, inplace=True)\n",
    "X_test.rename({'漲跌category': int(26)}, inplace=True)"
   ]
  },
  {
   "cell_type": "code",
   "execution_count": 165,
   "metadata": {},
   "outputs": [],
   "source": [
    "features = []"
   ]
  },
  {
   "cell_type": "code",
   "execution_count": 60,
   "metadata": {},
   "outputs": [],
   "source": [
    "model_RFC = RandomForestClassifier(random_state=0, max_depth=12, n_estimators=100, min_samples_split=2, min_samples_leaf=4)"
   ]
  },
  {
   "cell_type": "code",
   "execution_count": 61,
   "metadata": {},
   "outputs": [
    {
     "data": {
      "text/html": [
       "<style>#sk-container-id-1 {color: black;background-color: white;}#sk-container-id-1 pre{padding: 0;}#sk-container-id-1 div.sk-toggleable {background-color: white;}#sk-container-id-1 label.sk-toggleable__label {cursor: pointer;display: block;width: 100%;margin-bottom: 0;padding: 0.3em;box-sizing: border-box;text-align: center;}#sk-container-id-1 label.sk-toggleable__label-arrow:before {content: \"▸\";float: left;margin-right: 0.25em;color: #696969;}#sk-container-id-1 label.sk-toggleable__label-arrow:hover:before {color: black;}#sk-container-id-1 div.sk-estimator:hover label.sk-toggleable__label-arrow:before {color: black;}#sk-container-id-1 div.sk-toggleable__content {max-height: 0;max-width: 0;overflow: hidden;text-align: left;background-color: #f0f8ff;}#sk-container-id-1 div.sk-toggleable__content pre {margin: 0.2em;color: black;border-radius: 0.25em;background-color: #f0f8ff;}#sk-container-id-1 input.sk-toggleable__control:checked~div.sk-toggleable__content {max-height: 200px;max-width: 100%;overflow: auto;}#sk-container-id-1 input.sk-toggleable__control:checked~label.sk-toggleable__label-arrow:before {content: \"▾\";}#sk-container-id-1 div.sk-estimator input.sk-toggleable__control:checked~label.sk-toggleable__label {background-color: #d4ebff;}#sk-container-id-1 div.sk-label input.sk-toggleable__control:checked~label.sk-toggleable__label {background-color: #d4ebff;}#sk-container-id-1 input.sk-hidden--visually {border: 0;clip: rect(1px 1px 1px 1px);clip: rect(1px, 1px, 1px, 1px);height: 1px;margin: -1px;overflow: hidden;padding: 0;position: absolute;width: 1px;}#sk-container-id-1 div.sk-estimator {font-family: monospace;background-color: #f0f8ff;border: 1px dotted black;border-radius: 0.25em;box-sizing: border-box;margin-bottom: 0.5em;}#sk-container-id-1 div.sk-estimator:hover {background-color: #d4ebff;}#sk-container-id-1 div.sk-parallel-item::after {content: \"\";width: 100%;border-bottom: 1px solid gray;flex-grow: 1;}#sk-container-id-1 div.sk-label:hover label.sk-toggleable__label {background-color: #d4ebff;}#sk-container-id-1 div.sk-serial::before {content: \"\";position: absolute;border-left: 1px solid gray;box-sizing: border-box;top: 0;bottom: 0;left: 50%;z-index: 0;}#sk-container-id-1 div.sk-serial {display: flex;flex-direction: column;align-items: center;background-color: white;padding-right: 0.2em;padding-left: 0.2em;position: relative;}#sk-container-id-1 div.sk-item {position: relative;z-index: 1;}#sk-container-id-1 div.sk-parallel {display: flex;align-items: stretch;justify-content: center;background-color: white;position: relative;}#sk-container-id-1 div.sk-item::before, #sk-container-id-1 div.sk-parallel-item::before {content: \"\";position: absolute;border-left: 1px solid gray;box-sizing: border-box;top: 0;bottom: 0;left: 50%;z-index: -1;}#sk-container-id-1 div.sk-parallel-item {display: flex;flex-direction: column;z-index: 1;position: relative;background-color: white;}#sk-container-id-1 div.sk-parallel-item:first-child::after {align-self: flex-end;width: 50%;}#sk-container-id-1 div.sk-parallel-item:last-child::after {align-self: flex-start;width: 50%;}#sk-container-id-1 div.sk-parallel-item:only-child::after {width: 0;}#sk-container-id-1 div.sk-dashed-wrapped {border: 1px dashed gray;margin: 0 0.4em 0.5em 0.4em;box-sizing: border-box;padding-bottom: 0.4em;background-color: white;}#sk-container-id-1 div.sk-label label {font-family: monospace;font-weight: bold;display: inline-block;line-height: 1.2em;}#sk-container-id-1 div.sk-label-container {text-align: center;}#sk-container-id-1 div.sk-container {/* jupyter's `normalize.less` sets `[hidden] { display: none; }` but bootstrap.min.css set `[hidden] { display: none !important; }` so we also need the `!important` here to be able to override the default hidden behavior on the sphinx rendered scikit-learn.org. See: https://github.com/scikit-learn/scikit-learn/issues/21755 */display: inline-block !important;position: relative;}#sk-container-id-1 div.sk-text-repr-fallback {display: none;}</style><div id=\"sk-container-id-1\" class=\"sk-top-container\"><div class=\"sk-text-repr-fallback\"><pre>RandomForestClassifier(max_depth=12, min_samples_leaf=4, random_state=0)</pre><b>In a Jupyter environment, please rerun this cell to show the HTML representation or trust the notebook. <br />On GitHub, the HTML representation is unable to render, please try loading this page with nbviewer.org.</b></div><div class=\"sk-container\" hidden><div class=\"sk-item\"><div class=\"sk-estimator sk-toggleable\"><input class=\"sk-toggleable__control sk-hidden--visually\" id=\"sk-estimator-id-1\" type=\"checkbox\" checked><label for=\"sk-estimator-id-1\" class=\"sk-toggleable__label sk-toggleable__label-arrow\">RandomForestClassifier</label><div class=\"sk-toggleable__content\"><pre>RandomForestClassifier(max_depth=12, min_samples_leaf=4, random_state=0)</pre></div></div></div></div></div>"
      ],
      "text/plain": [
       "RandomForestClassifier(max_depth=12, min_samples_leaf=4, random_state=0)"
      ]
     },
     "execution_count": 61,
     "metadata": {},
     "output_type": "execute_result"
    }
   ],
   "source": [
    "\n",
    "model_RFC.fit(X_train, y_train)\n"
   ]
  },
  {
   "cell_type": "code",
   "execution_count": 62,
   "metadata": {},
   "outputs": [
    {
     "data": {
      "text/plain": [
       "0.635600335852225"
      ]
     },
     "execution_count": 62,
     "metadata": {},
     "output_type": "execute_result"
    }
   ],
   "source": [
    "model_RFC.score(X_test, y_test)"
   ]
  },
  {
   "cell_type": "code",
   "execution_count": 63,
   "metadata": {},
   "outputs": [
    {
     "ename": "NameError",
     "evalue": "name 'features' is not defined",
     "output_type": "error",
     "traceback": [
      "\u001b[1;31m---------------------------------------------------------------------------\u001b[0m",
      "\u001b[1;31mNameError\u001b[0m                                 Traceback (most recent call last)",
      "Cell \u001b[1;32mIn[63], line 1\u001b[0m\n\u001b[1;32m----> 1\u001b[0m f_i \u001b[39m=\u001b[39m \u001b[39mlist\u001b[39m(\u001b[39mzip\u001b[39m(features, model_RFC\u001b[39m.\u001b[39mfeature_importances_))\n\u001b[0;32m      2\u001b[0m f_i\u001b[39m.\u001b[39msort(key\u001b[39m=\u001b[39m\u001b[39mlambda\u001b[39;00m x: x[\u001b[39m1\u001b[39m])\n\u001b[0;32m      3\u001b[0m f_i\n",
      "\u001b[1;31mNameError\u001b[0m: name 'features' is not defined"
     ]
    }
   ],
   "source": [
    "f_i = list(zip(features, model_RFC.feature_importances_))\n",
    "f_i.sort(key=lambda x: x[1])\n",
    "f_i"
   ]
  },
  {
   "cell_type": "code",
   "execution_count": 69,
   "metadata": {},
   "outputs": [],
   "source": [
    "sig_features = ['4', '16', '6', '5', '9', '24', '17', '7', '8', '23']"
   ]
  },
  {
   "cell_type": "code",
   "execution_count": 65,
   "metadata": {},
   "outputs": [
    {
     "name": "stdout",
     "output_type": "stream",
     "text": [
      "0.654911838790932\n"
     ]
    },
    {
     "data": {
      "text/plain": [
       "0.6557752517417426"
      ]
     },
     "execution_count": 65,
     "metadata": {},
     "output_type": "execute_result"
    }
   ],
   "source": [
    "model_original = HistGradientBoostingClassifier(max_iter=1000, learning_rate=0.01, max_depth=10, random_state=0)\n",
    "model_original.fit(X_train, y_train)\n",
    "print(model_original.score(X_test, y_test))\n",
    "roc_auc_score(y_score=model_original.predict(X_test), y_true=y_test)\n"
   ]
  },
  {
   "cell_type": "code",
   "execution_count": 68,
   "metadata": {},
   "outputs": [
    {
     "data": {
      "text/plain": [
       "Index(['漲跌category', '0', '1', '2', '3', '4', '5', '6', '7', '8', '9', '10',\n",
       "       '11', '12', '13', '14', '15', '16', '17', '18', '19', '20', '21', '22',\n",
       "       '23', '24', '25'],\n",
       "      dtype='object')"
      ]
     },
     "execution_count": 68,
     "metadata": {},
     "output_type": "execute_result"
    }
   ],
   "source": [
    "X_train.columns"
   ]
  },
  {
   "cell_type": "code",
   "execution_count": 72,
   "metadata": {},
   "outputs": [
    {
     "name": "stdout",
     "output_type": "stream",
     "text": [
      "0.6448362720403022\n",
      "0.7989151491669896\n"
     ]
    },
    {
     "data": {
      "text/plain": [
       "0.6447592587369192"
      ]
     },
     "execution_count": 72,
     "metadata": {},
     "output_type": "execute_result"
    }
   ],
   "source": [
    "model_sig_feat = HistGradientBoostingClassifier(max_iter=1000, learning_rate=0.002, max_depth=10, min_samples_leaf=6, l2_regularization=0.1, random_state=0)\n",
    "model_sig_feat.fit(X_train[sig_features], y_train)\n",
    "print(model_sig_feat.score(X_test[sig_features], y_test))\n",
    "print(model_sig_feat.score(X_train[sig_features], y_train))\n",
    "roc_auc_score(y_score=model_sig_feat.predict(X_test[sig_features]), y_true=y_test)"
   ]
  },
  {
   "cell_type": "code",
   "execution_count": 175,
   "metadata": {},
   "outputs": [
    {
     "data": {
      "text/html": [
       "<div>\n",
       "<style scoped>\n",
       "    .dataframe tbody tr th:only-of-type {\n",
       "        vertical-align: middle;\n",
       "    }\n",
       "\n",
       "    .dataframe tbody tr th {\n",
       "        vertical-align: top;\n",
       "    }\n",
       "\n",
       "    .dataframe thead th {\n",
       "        text-align: right;\n",
       "    }\n",
       "</style>\n",
       "<table border=\"1\" class=\"dataframe\">\n",
       "  <thead>\n",
       "    <tr style=\"text-align: right;\">\n",
       "      <th></th>\n",
       "      <th>漲跌category</th>\n",
       "      <th>0</th>\n",
       "      <th>1</th>\n",
       "      <th>2</th>\n",
       "      <th>3</th>\n",
       "      <th>4</th>\n",
       "      <th>5</th>\n",
       "      <th>6</th>\n",
       "      <th>7</th>\n",
       "      <th>8</th>\n",
       "      <th>...</th>\n",
       "      <th>16</th>\n",
       "      <th>17</th>\n",
       "      <th>18</th>\n",
       "      <th>19</th>\n",
       "      <th>20</th>\n",
       "      <th>21</th>\n",
       "      <th>22</th>\n",
       "      <th>23</th>\n",
       "      <th>24</th>\n",
       "      <th>25</th>\n",
       "    </tr>\n",
       "  </thead>\n",
       "  <tbody>\n",
       "    <tr>\n",
       "      <th>0</th>\n",
       "      <td>3</td>\n",
       "      <td>0.063067</td>\n",
       "      <td>0.037152</td>\n",
       "      <td>0.094745</td>\n",
       "      <td>0.054374</td>\n",
       "      <td>0.421409</td>\n",
       "      <td>0.340982</td>\n",
       "      <td>0.311741</td>\n",
       "      <td>0.569594</td>\n",
       "      <td>0.768869</td>\n",
       "      <td>...</td>\n",
       "      <td>0.459157</td>\n",
       "      <td>0.023384</td>\n",
       "      <td>0.729961</td>\n",
       "      <td>0.726012</td>\n",
       "      <td>0.469801</td>\n",
       "      <td>0.405019</td>\n",
       "      <td>0.834238</td>\n",
       "      <td>0.599092</td>\n",
       "      <td>0.871920</td>\n",
       "      <td>0.770507</td>\n",
       "    </tr>\n",
       "    <tr>\n",
       "      <th>1</th>\n",
       "      <td>0</td>\n",
       "      <td>0.043556</td>\n",
       "      <td>0.020265</td>\n",
       "      <td>0.090028</td>\n",
       "      <td>0.050286</td>\n",
       "      <td>0.535908</td>\n",
       "      <td>0.476099</td>\n",
       "      <td>0.203468</td>\n",
       "      <td>0.311604</td>\n",
       "      <td>0.576767</td>\n",
       "      <td>...</td>\n",
       "      <td>0.469660</td>\n",
       "      <td>0.006058</td>\n",
       "      <td>0.716779</td>\n",
       "      <td>0.721775</td>\n",
       "      <td>0.444674</td>\n",
       "      <td>0.378184</td>\n",
       "      <td>0.802944</td>\n",
       "      <td>0.605430</td>\n",
       "      <td>0.866275</td>\n",
       "      <td>0.774607</td>\n",
       "    </tr>\n",
       "    <tr>\n",
       "      <th>2</th>\n",
       "      <td>1</td>\n",
       "      <td>0.046304</td>\n",
       "      <td>0.019561</td>\n",
       "      <td>0.092124</td>\n",
       "      <td>0.052875</td>\n",
       "      <td>0.568428</td>\n",
       "      <td>0.515615</td>\n",
       "      <td>0.141550</td>\n",
       "      <td>0.042150</td>\n",
       "      <td>0.296222</td>\n",
       "      <td>...</td>\n",
       "      <td>0.519527</td>\n",
       "      <td>0.018206</td>\n",
       "      <td>0.708384</td>\n",
       "      <td>0.716504</td>\n",
       "      <td>0.434807</td>\n",
       "      <td>0.406485</td>\n",
       "      <td>0.808329</td>\n",
       "      <td>0.595112</td>\n",
       "      <td>0.877466</td>\n",
       "      <td>0.761617</td>\n",
       "    </tr>\n",
       "    <tr>\n",
       "      <th>3</th>\n",
       "      <td>2</td>\n",
       "      <td>0.051663</td>\n",
       "      <td>0.030819</td>\n",
       "      <td>0.098152</td>\n",
       "      <td>0.065140</td>\n",
       "      <td>0.617209</td>\n",
       "      <td>0.574888</td>\n",
       "      <td>0.204093</td>\n",
       "      <td>0.196330</td>\n",
       "      <td>0.168735</td>\n",
       "      <td>...</td>\n",
       "      <td>0.613961</td>\n",
       "      <td>0.035584</td>\n",
       "      <td>0.710135</td>\n",
       "      <td>0.712679</td>\n",
       "      <td>0.448610</td>\n",
       "      <td>0.527836</td>\n",
       "      <td>0.836957</td>\n",
       "      <td>0.576565</td>\n",
       "      <td>0.906530</td>\n",
       "      <td>0.719167</td>\n",
       "    </tr>\n",
       "    <tr>\n",
       "      <th>4</th>\n",
       "      <td>0</td>\n",
       "      <td>0.057983</td>\n",
       "      <td>0.031804</td>\n",
       "      <td>0.101297</td>\n",
       "      <td>0.060507</td>\n",
       "      <td>0.533198</td>\n",
       "      <td>0.472913</td>\n",
       "      <td>0.154180</td>\n",
       "      <td>0.297748</td>\n",
       "      <td>0.164002</td>\n",
       "      <td>...</td>\n",
       "      <td>0.610535</td>\n",
       "      <td>0.022380</td>\n",
       "      <td>0.708812</td>\n",
       "      <td>0.709323</td>\n",
       "      <td>0.453077</td>\n",
       "      <td>0.491232</td>\n",
       "      <td>0.845464</td>\n",
       "      <td>0.567159</td>\n",
       "      <td>0.903785</td>\n",
       "      <td>0.737369</td>\n",
       "    </tr>\n",
       "    <tr>\n",
       "      <th>...</th>\n",
       "      <td>...</td>\n",
       "      <td>...</td>\n",
       "      <td>...</td>\n",
       "      <td>...</td>\n",
       "      <td>...</td>\n",
       "      <td>...</td>\n",
       "      <td>...</td>\n",
       "      <td>...</td>\n",
       "      <td>...</td>\n",
       "      <td>...</td>\n",
       "      <td>...</td>\n",
       "      <td>...</td>\n",
       "      <td>...</td>\n",
       "      <td>...</td>\n",
       "      <td>...</td>\n",
       "      <td>...</td>\n",
       "      <td>...</td>\n",
       "      <td>...</td>\n",
       "      <td>...</td>\n",
       "      <td>...</td>\n",
       "      <td>...</td>\n",
       "    </tr>\n",
       "    <tr>\n",
       "      <th>2788</th>\n",
       "      <td>1</td>\n",
       "      <td>0.966749</td>\n",
       "      <td>0.966648</td>\n",
       "      <td>0.968680</td>\n",
       "      <td>0.965249</td>\n",
       "      <td>0.546070</td>\n",
       "      <td>0.493308</td>\n",
       "      <td>0.055858</td>\n",
       "      <td>0.854044</td>\n",
       "      <td>0.854154</td>\n",
       "      <td>...</td>\n",
       "      <td>0.604305</td>\n",
       "      <td>0.714896</td>\n",
       "      <td>0.822254</td>\n",
       "      <td>0.801967</td>\n",
       "      <td>0.535344</td>\n",
       "      <td>0.678280</td>\n",
       "      <td>0.888039</td>\n",
       "      <td>0.437418</td>\n",
       "      <td>0.942122</td>\n",
       "      <td>0.582788</td>\n",
       "    </tr>\n",
       "    <tr>\n",
       "      <th>2789</th>\n",
       "      <td>2</td>\n",
       "      <td>0.968810</td>\n",
       "      <td>0.990290</td>\n",
       "      <td>0.973660</td>\n",
       "      <td>0.994549</td>\n",
       "      <td>0.676829</td>\n",
       "      <td>0.578075</td>\n",
       "      <td>0.236289</td>\n",
       "      <td>0.966075</td>\n",
       "      <td>0.905429</td>\n",
       "      <td>...</td>\n",
       "      <td>0.674151</td>\n",
       "      <td>0.734966</td>\n",
       "      <td>0.845415</td>\n",
       "      <td>0.811372</td>\n",
       "      <td>0.574819</td>\n",
       "      <td>0.767574</td>\n",
       "      <td>0.914578</td>\n",
       "      <td>0.402074</td>\n",
       "      <td>0.978830</td>\n",
       "      <td>0.455813</td>\n",
       "    </tr>\n",
       "    <tr>\n",
       "      <th>2790</th>\n",
       "      <td>1</td>\n",
       "      <td>0.970184</td>\n",
       "      <td>0.968477</td>\n",
       "      <td>0.974053</td>\n",
       "      <td>0.970564</td>\n",
       "      <td>0.557588</td>\n",
       "      <td>0.500956</td>\n",
       "      <td>0.046278</td>\n",
       "      <td>0.849678</td>\n",
       "      <td>0.892718</td>\n",
       "      <td>...</td>\n",
       "      <td>0.588274</td>\n",
       "      <td>0.730785</td>\n",
       "      <td>0.846722</td>\n",
       "      <td>0.819190</td>\n",
       "      <td>0.559669</td>\n",
       "      <td>0.663164</td>\n",
       "      <td>0.864206</td>\n",
       "      <td>0.401198</td>\n",
       "      <td>0.926811</td>\n",
       "      <td>0.543385</td>\n",
       "    </tr>\n",
       "    <tr>\n",
       "      <th>2791</th>\n",
       "      <td>1</td>\n",
       "      <td>1.000000</td>\n",
       "      <td>1.000000</td>\n",
       "      <td>0.995151</td>\n",
       "      <td>1.000000</td>\n",
       "      <td>0.583333</td>\n",
       "      <td>0.517527</td>\n",
       "      <td>0.233412</td>\n",
       "      <td>0.862856</td>\n",
       "      <td>0.895728</td>\n",
       "      <td>...</td>\n",
       "      <td>0.654313</td>\n",
       "      <td>0.750615</td>\n",
       "      <td>0.865681</td>\n",
       "      <td>0.829694</td>\n",
       "      <td>0.585293</td>\n",
       "      <td>0.745966</td>\n",
       "      <td>0.907146</td>\n",
       "      <td>0.320298</td>\n",
       "      <td>0.964451</td>\n",
       "      <td>0.425957</td>\n",
       "    </tr>\n",
       "    <tr>\n",
       "      <th>2792</th>\n",
       "      <td>1</td>\n",
       "      <td>0.995603</td>\n",
       "      <td>0.998874</td>\n",
       "      <td>1.000000</td>\n",
       "      <td>0.998774</td>\n",
       "      <td>0.577236</td>\n",
       "      <td>0.513703</td>\n",
       "      <td>0.065367</td>\n",
       "      <td>0.833285</td>\n",
       "      <td>0.850374</td>\n",
       "      <td>...</td>\n",
       "      <td>0.630121</td>\n",
       "      <td>0.744838</td>\n",
       "      <td>0.878285</td>\n",
       "      <td>0.840922</td>\n",
       "      <td>0.592204</td>\n",
       "      <td>0.740711</td>\n",
       "      <td>0.888991</td>\n",
       "      <td>0.298532</td>\n",
       "      <td>0.947402</td>\n",
       "      <td>0.424440</td>\n",
       "    </tr>\n",
       "  </tbody>\n",
       "</table>\n",
       "<p>2793 rows × 27 columns</p>\n",
       "</div>"
      ],
      "text/plain": [
       "      漲跌category         0         1         2         3         4         5  \\\n",
       "0              3  0.063067  0.037152  0.094745  0.054374  0.421409  0.340982   \n",
       "1              0  0.043556  0.020265  0.090028  0.050286  0.535908  0.476099   \n",
       "2              1  0.046304  0.019561  0.092124  0.052875  0.568428  0.515615   \n",
       "3              2  0.051663  0.030819  0.098152  0.065140  0.617209  0.574888   \n",
       "4              0  0.057983  0.031804  0.101297  0.060507  0.533198  0.472913   \n",
       "...          ...       ...       ...       ...       ...       ...       ...   \n",
       "2788           1  0.966749  0.966648  0.968680  0.965249  0.546070  0.493308   \n",
       "2789           2  0.968810  0.990290  0.973660  0.994549  0.676829  0.578075   \n",
       "2790           1  0.970184  0.968477  0.974053  0.970564  0.557588  0.500956   \n",
       "2791           1  1.000000  1.000000  0.995151  1.000000  0.583333  0.517527   \n",
       "2792           1  0.995603  0.998874  1.000000  0.998774  0.577236  0.513703   \n",
       "\n",
       "             6         7         8  ...        16        17        18  \\\n",
       "0     0.311741  0.569594  0.768869  ...  0.459157  0.023384  0.729961   \n",
       "1     0.203468  0.311604  0.576767  ...  0.469660  0.006058  0.716779   \n",
       "2     0.141550  0.042150  0.296222  ...  0.519527  0.018206  0.708384   \n",
       "3     0.204093  0.196330  0.168735  ...  0.613961  0.035584  0.710135   \n",
       "4     0.154180  0.297748  0.164002  ...  0.610535  0.022380  0.708812   \n",
       "...        ...       ...       ...  ...       ...       ...       ...   \n",
       "2788  0.055858  0.854044  0.854154  ...  0.604305  0.714896  0.822254   \n",
       "2789  0.236289  0.966075  0.905429  ...  0.674151  0.734966  0.845415   \n",
       "2790  0.046278  0.849678  0.892718  ...  0.588274  0.730785  0.846722   \n",
       "2791  0.233412  0.862856  0.895728  ...  0.654313  0.750615  0.865681   \n",
       "2792  0.065367  0.833285  0.850374  ...  0.630121  0.744838  0.878285   \n",
       "\n",
       "            19        20        21        22        23        24        25  \n",
       "0     0.726012  0.469801  0.405019  0.834238  0.599092  0.871920  0.770507  \n",
       "1     0.721775  0.444674  0.378184  0.802944  0.605430  0.866275  0.774607  \n",
       "2     0.716504  0.434807  0.406485  0.808329  0.595112  0.877466  0.761617  \n",
       "3     0.712679  0.448610  0.527836  0.836957  0.576565  0.906530  0.719167  \n",
       "4     0.709323  0.453077  0.491232  0.845464  0.567159  0.903785  0.737369  \n",
       "...        ...       ...       ...       ...       ...       ...       ...  \n",
       "2788  0.801967  0.535344  0.678280  0.888039  0.437418  0.942122  0.582788  \n",
       "2789  0.811372  0.574819  0.767574  0.914578  0.402074  0.978830  0.455813  \n",
       "2790  0.819190  0.559669  0.663164  0.864206  0.401198  0.926811  0.543385  \n",
       "2791  0.829694  0.585293  0.745966  0.907146  0.320298  0.964451  0.425957  \n",
       "2792  0.840922  0.592204  0.740711  0.888991  0.298532  0.947402  0.424440  \n",
       "\n",
       "[2793 rows x 27 columns]"
      ]
     },
     "execution_count": 175,
     "metadata": {},
     "output_type": "execute_result"
    }
   ],
   "source": [
    "X_train"
   ]
  },
  {
   "cell_type": "code",
   "execution_count": 10,
   "metadata": {},
   "outputs": [],
   "source": [
    "model = HistGradientBoostingClassifier(random_state=42, max_depth=8, learning_rate=0.002, max_iter=1000, min_samples_leaf=4, l2_regularization=0.1, categorical_features=['漲跌category'])"
   ]
  },
  {
   "cell_type": "code",
   "execution_count": 137,
   "metadata": {},
   "outputs": [],
   "source": [
    "param_grid = {\n",
    "    'learning_rate': [0.001, 0.002, 0.01, 0.1, 0.2],\n",
    "    'max_depth': [3, 5, 7, 9, 11],\n",
    "    'min_samples_leaf': [1, 2, 4, 6, 8],\n",
    "    'max_iter': [100, 200, 300, 400, 500, 600, 700, 800, 900],\n",
    "    'min_samples_leaf': [6, 8, 10, 12, 14, 16, 18, 20],\n",
    "    'l2_regularization': [0, 0.1, 0.2, 0.3, 0.4, 0.5, 1],\n",
    "    'max_leaf_nodes': [None, 10, 20, 30, 40, 50, 60, 70, 80, 90, 100],\n",
    "}"
   ]
  },
  {
   "cell_type": "code",
   "execution_count": 11,
   "metadata": {},
   "outputs": [
    {
     "data": {
      "text/html": [
       "<style>#sk-container-id-1 {color: black;background-color: white;}#sk-container-id-1 pre{padding: 0;}#sk-container-id-1 div.sk-toggleable {background-color: white;}#sk-container-id-1 label.sk-toggleable__label {cursor: pointer;display: block;width: 100%;margin-bottom: 0;padding: 0.3em;box-sizing: border-box;text-align: center;}#sk-container-id-1 label.sk-toggleable__label-arrow:before {content: \"▸\";float: left;margin-right: 0.25em;color: #696969;}#sk-container-id-1 label.sk-toggleable__label-arrow:hover:before {color: black;}#sk-container-id-1 div.sk-estimator:hover label.sk-toggleable__label-arrow:before {color: black;}#sk-container-id-1 div.sk-toggleable__content {max-height: 0;max-width: 0;overflow: hidden;text-align: left;background-color: #f0f8ff;}#sk-container-id-1 div.sk-toggleable__content pre {margin: 0.2em;color: black;border-radius: 0.25em;background-color: #f0f8ff;}#sk-container-id-1 input.sk-toggleable__control:checked~div.sk-toggleable__content {max-height: 200px;max-width: 100%;overflow: auto;}#sk-container-id-1 input.sk-toggleable__control:checked~label.sk-toggleable__label-arrow:before {content: \"▾\";}#sk-container-id-1 div.sk-estimator input.sk-toggleable__control:checked~label.sk-toggleable__label {background-color: #d4ebff;}#sk-container-id-1 div.sk-label input.sk-toggleable__control:checked~label.sk-toggleable__label {background-color: #d4ebff;}#sk-container-id-1 input.sk-hidden--visually {border: 0;clip: rect(1px 1px 1px 1px);clip: rect(1px, 1px, 1px, 1px);height: 1px;margin: -1px;overflow: hidden;padding: 0;position: absolute;width: 1px;}#sk-container-id-1 div.sk-estimator {font-family: monospace;background-color: #f0f8ff;border: 1px dotted black;border-radius: 0.25em;box-sizing: border-box;margin-bottom: 0.5em;}#sk-container-id-1 div.sk-estimator:hover {background-color: #d4ebff;}#sk-container-id-1 div.sk-parallel-item::after {content: \"\";width: 100%;border-bottom: 1px solid gray;flex-grow: 1;}#sk-container-id-1 div.sk-label:hover label.sk-toggleable__label {background-color: #d4ebff;}#sk-container-id-1 div.sk-serial::before {content: \"\";position: absolute;border-left: 1px solid gray;box-sizing: border-box;top: 0;bottom: 0;left: 50%;z-index: 0;}#sk-container-id-1 div.sk-serial {display: flex;flex-direction: column;align-items: center;background-color: white;padding-right: 0.2em;padding-left: 0.2em;position: relative;}#sk-container-id-1 div.sk-item {position: relative;z-index: 1;}#sk-container-id-1 div.sk-parallel {display: flex;align-items: stretch;justify-content: center;background-color: white;position: relative;}#sk-container-id-1 div.sk-item::before, #sk-container-id-1 div.sk-parallel-item::before {content: \"\";position: absolute;border-left: 1px solid gray;box-sizing: border-box;top: 0;bottom: 0;left: 50%;z-index: -1;}#sk-container-id-1 div.sk-parallel-item {display: flex;flex-direction: column;z-index: 1;position: relative;background-color: white;}#sk-container-id-1 div.sk-parallel-item:first-child::after {align-self: flex-end;width: 50%;}#sk-container-id-1 div.sk-parallel-item:last-child::after {align-self: flex-start;width: 50%;}#sk-container-id-1 div.sk-parallel-item:only-child::after {width: 0;}#sk-container-id-1 div.sk-dashed-wrapped {border: 1px dashed gray;margin: 0 0.4em 0.5em 0.4em;box-sizing: border-box;padding-bottom: 0.4em;background-color: white;}#sk-container-id-1 div.sk-label label {font-family: monospace;font-weight: bold;display: inline-block;line-height: 1.2em;}#sk-container-id-1 div.sk-label-container {text-align: center;}#sk-container-id-1 div.sk-container {/* jupyter's `normalize.less` sets `[hidden] { display: none; }` but bootstrap.min.css set `[hidden] { display: none !important; }` so we also need the `!important` here to be able to override the default hidden behavior on the sphinx rendered scikit-learn.org. See: https://github.com/scikit-learn/scikit-learn/issues/21755 */display: inline-block !important;position: relative;}#sk-container-id-1 div.sk-text-repr-fallback {display: none;}</style><div id=\"sk-container-id-1\" class=\"sk-top-container\"><div class=\"sk-text-repr-fallback\"><pre>HistGradientBoostingClassifier(categorical_features=[&#x27;漲跌category&#x27;],\n",
       "                               l2_regularization=0.1, learning_rate=0.002,\n",
       "                               max_depth=8, max_iter=1000, min_samples_leaf=4,\n",
       "                               random_state=42)</pre><b>In a Jupyter environment, please rerun this cell to show the HTML representation or trust the notebook. <br />On GitHub, the HTML representation is unable to render, please try loading this page with nbviewer.org.</b></div><div class=\"sk-container\" hidden><div class=\"sk-item\"><div class=\"sk-estimator sk-toggleable\"><input class=\"sk-toggleable__control sk-hidden--visually\" id=\"sk-estimator-id-1\" type=\"checkbox\" checked><label for=\"sk-estimator-id-1\" class=\"sk-toggleable__label sk-toggleable__label-arrow\">HistGradientBoostingClassifier</label><div class=\"sk-toggleable__content\"><pre>HistGradientBoostingClassifier(categorical_features=[&#x27;漲跌category&#x27;],\n",
       "                               l2_regularization=0.1, learning_rate=0.002,\n",
       "                               max_depth=8, max_iter=1000, min_samples_leaf=4,\n",
       "                               random_state=42)</pre></div></div></div></div></div>"
      ],
      "text/plain": [
       "HistGradientBoostingClassifier(categorical_features=['漲跌category'],\n",
       "                               l2_regularization=0.1, learning_rate=0.002,\n",
       "                               max_depth=8, max_iter=1000, min_samples_leaf=4,\n",
       "                               random_state=42)"
      ]
     },
     "execution_count": 11,
     "metadata": {},
     "output_type": "execute_result"
    }
   ],
   "source": [
    "model.fit(X_train, y_train)"
   ]
  },
  {
   "cell_type": "code",
   "execution_count": 178,
   "metadata": {},
   "outputs": [
    {
     "data": {
      "text/plain": [
       "0.6700715015321757"
      ]
     },
     "execution_count": 178,
     "metadata": {},
     "output_type": "execute_result"
    }
   ],
   "source": [
    "model.score(X_test, y_test)"
   ]
  },
  {
   "cell_type": "code",
   "execution_count": 179,
   "metadata": {},
   "outputs": [
    {
     "name": "stdout",
     "output_type": "stream",
     "text": [
      "0.6909090909090908\n",
      "0.7248995983935743\n",
      "0.659963436928702\n"
     ]
    },
    {
     "data": {
      "text/plain": [
       "0.6714169036495362"
      ]
     },
     "execution_count": 179,
     "metadata": {},
     "output_type": "execute_result"
    }
   ],
   "source": [
    "print(f1_score(model.predict(X_test), y_test))\n",
    "print(precision_score(model.predict(X_test), y_test))\n",
    "print(recall_score(model.predict(X_test), y_test)) \n",
    "roc_auc_score(model.predict(X_test), y_test)"
   ]
  },
  {
   "cell_type": "code",
   "execution_count": 159,
   "metadata": {},
   "outputs": [
    {
     "data": {
      "text/plain": [
       "0.8403150733977801"
      ]
     },
     "execution_count": 159,
     "metadata": {},
     "output_type": "execute_result"
    }
   ],
   "source": [
    "model.score(X_train, y_train)"
   ]
  },
  {
   "cell_type": "code",
   "execution_count": 12,
   "metadata": {},
   "outputs": [
    {
     "data": {
      "text/plain": [
       "0.6750629722921915"
      ]
     },
     "execution_count": 12,
     "metadata": {},
     "output_type": "execute_result"
    }
   ],
   "source": [
    "model2 = HistGradientBoostingClassifier(random_state=42, max_depth=8, learning_rate=0.002, max_iter=1000, min_samples_leaf=4, l2_regularization=0.1, categorical_features=['漲跌category'])\n",
    "model2.fit(X_train, y_train)\n",
    "model2.score(X_test, y_test)"
   ]
  },
  {
   "cell_type": "code",
   "execution_count": 31,
   "metadata": {},
   "outputs": [
    {
     "data": {
      "text/html": [
       "<div>\n",
       "<style scoped>\n",
       "    .dataframe tbody tr th:only-of-type {\n",
       "        vertical-align: middle;\n",
       "    }\n",
       "\n",
       "    .dataframe tbody tr th {\n",
       "        vertical-align: top;\n",
       "    }\n",
       "\n",
       "    .dataframe thead th {\n",
       "        text-align: right;\n",
       "    }\n",
       "</style>\n",
       "<table border=\"1\" class=\"dataframe\">\n",
       "  <thead>\n",
       "    <tr style=\"text-align: right;\">\n",
       "      <th></th>\n",
       "      <th>漲跌category</th>\n",
       "      <th>0</th>\n",
       "      <th>1</th>\n",
       "      <th>2</th>\n",
       "      <th>3</th>\n",
       "      <th>4</th>\n",
       "      <th>5</th>\n",
       "      <th>6</th>\n",
       "      <th>7</th>\n",
       "      <th>8</th>\n",
       "      <th>...</th>\n",
       "      <th>16</th>\n",
       "      <th>17</th>\n",
       "      <th>18</th>\n",
       "      <th>19</th>\n",
       "      <th>20</th>\n",
       "      <th>21</th>\n",
       "      <th>22</th>\n",
       "      <th>23</th>\n",
       "      <th>24</th>\n",
       "      <th>25</th>\n",
       "    </tr>\n",
       "  </thead>\n",
       "  <tbody>\n",
       "    <tr>\n",
       "      <th>0</th>\n",
       "      <td>0</td>\n",
       "      <td>0.944240</td>\n",
       "      <td>0.937099</td>\n",
       "      <td>0.978241</td>\n",
       "      <td>0.934102</td>\n",
       "      <td>0.464770</td>\n",
       "      <td>0.431485</td>\n",
       "      <td>0.327126</td>\n",
       "      <td>0.464438</td>\n",
       "      <td>0.569234</td>\n",
       "      <td>...</td>\n",
       "      <td>0.515939</td>\n",
       "      <td>0.630782</td>\n",
       "      <td>0.919625</td>\n",
       "      <td>0.947583</td>\n",
       "      <td>0.473187</td>\n",
       "      <td>0.613555</td>\n",
       "      <td>0.829922</td>\n",
       "      <td>0.433227</td>\n",
       "      <td>0.869740</td>\n",
       "      <td>0.569704</td>\n",
       "    </tr>\n",
       "    <tr>\n",
       "      <th>1</th>\n",
       "      <td>0</td>\n",
       "      <td>0.953809</td>\n",
       "      <td>0.943332</td>\n",
       "      <td>0.987307</td>\n",
       "      <td>0.953688</td>\n",
       "      <td>0.537263</td>\n",
       "      <td>0.485660</td>\n",
       "      <td>0.135614</td>\n",
       "      <td>0.422309</td>\n",
       "      <td>0.498152</td>\n",
       "      <td>...</td>\n",
       "      <td>0.579315</td>\n",
       "      <td>0.642434</td>\n",
       "      <td>0.914725</td>\n",
       "      <td>0.945414</td>\n",
       "      <td>0.465490</td>\n",
       "      <td>0.656637</td>\n",
       "      <td>0.840203</td>\n",
       "      <td>0.434927</td>\n",
       "      <td>0.898401</td>\n",
       "      <td>0.543403</td>\n",
       "    </tr>\n",
       "    <tr>\n",
       "      <th>2</th>\n",
       "      <td>3</td>\n",
       "      <td>0.941480</td>\n",
       "      <td>0.949377</td>\n",
       "      <td>0.993472</td>\n",
       "      <td>0.968149</td>\n",
       "      <td>0.682927</td>\n",
       "      <td>0.595921</td>\n",
       "      <td>0.268952</td>\n",
       "      <td>0.528972</td>\n",
       "      <td>0.464391</td>\n",
       "      <td>...</td>\n",
       "      <td>0.624302</td>\n",
       "      <td>0.665235</td>\n",
       "      <td>0.916497</td>\n",
       "      <td>0.944082</td>\n",
       "      <td>0.473055</td>\n",
       "      <td>0.687299</td>\n",
       "      <td>0.842504</td>\n",
       "      <td>0.424380</td>\n",
       "      <td>0.912695</td>\n",
       "      <td>0.509381</td>\n",
       "    </tr>\n",
       "    <tr>\n",
       "      <th>3</th>\n",
       "      <td>1</td>\n",
       "      <td>0.924733</td>\n",
       "      <td>0.925576</td>\n",
       "      <td>0.972076</td>\n",
       "      <td>0.943072</td>\n",
       "      <td>0.590108</td>\n",
       "      <td>0.525813</td>\n",
       "      <td>0.114519</td>\n",
       "      <td>0.632700</td>\n",
       "      <td>0.521860</td>\n",
       "      <td>...</td>\n",
       "      <td>0.558748</td>\n",
       "      <td>0.655348</td>\n",
       "      <td>0.903549</td>\n",
       "      <td>0.940071</td>\n",
       "      <td>0.448828</td>\n",
       "      <td>0.617774</td>\n",
       "      <td>0.810987</td>\n",
       "      <td>0.499741</td>\n",
       "      <td>0.880701</td>\n",
       "      <td>0.602821</td>\n",
       "    </tr>\n",
       "    <tr>\n",
       "      <th>4</th>\n",
       "      <td>1</td>\n",
       "      <td>0.975340</td>\n",
       "      <td>0.970910</td>\n",
       "      <td>1.021396</td>\n",
       "      <td>0.989200</td>\n",
       "      <td>0.632791</td>\n",
       "      <td>0.557043</td>\n",
       "      <td>0.256508</td>\n",
       "      <td>0.813277</td>\n",
       "      <td>0.655394</td>\n",
       "      <td>...</td>\n",
       "      <td>0.679453</td>\n",
       "      <td>0.677109</td>\n",
       "      <td>0.915101</td>\n",
       "      <td>0.939491</td>\n",
       "      <td>0.479845</td>\n",
       "      <td>0.713208</td>\n",
       "      <td>0.867104</td>\n",
       "      <td>0.379886</td>\n",
       "      <td>0.935703</td>\n",
       "      <td>0.479053</td>\n",
       "    </tr>\n",
       "    <tr>\n",
       "      <th>...</th>\n",
       "      <td>...</td>\n",
       "      <td>...</td>\n",
       "      <td>...</td>\n",
       "      <td>...</td>\n",
       "      <td>...</td>\n",
       "      <td>...</td>\n",
       "      <td>...</td>\n",
       "      <td>...</td>\n",
       "      <td>...</td>\n",
       "      <td>...</td>\n",
       "      <td>...</td>\n",
       "      <td>...</td>\n",
       "      <td>...</td>\n",
       "      <td>...</td>\n",
       "      <td>...</td>\n",
       "      <td>...</td>\n",
       "      <td>...</td>\n",
       "      <td>...</td>\n",
       "      <td>...</td>\n",
       "      <td>...</td>\n",
       "      <td>...</td>\n",
       "    </tr>\n",
       "    <tr>\n",
       "      <th>1186</th>\n",
       "      <td>2</td>\n",
       "      <td>1.249540</td>\n",
       "      <td>1.244617</td>\n",
       "      <td>1.280145</td>\n",
       "      <td>1.239246</td>\n",
       "      <td>0.422764</td>\n",
       "      <td>0.412365</td>\n",
       "      <td>0.203733</td>\n",
       "      <td>0.422830</td>\n",
       "      <td>0.444397</td>\n",
       "      <td>...</td>\n",
       "      <td>0.530859</td>\n",
       "      <td>0.382166</td>\n",
       "      <td>0.655063</td>\n",
       "      <td>0.653265</td>\n",
       "      <td>0.458105</td>\n",
       "      <td>0.412467</td>\n",
       "      <td>0.756677</td>\n",
       "      <td>0.583247</td>\n",
       "      <td>0.812099</td>\n",
       "      <td>0.736017</td>\n",
       "    </tr>\n",
       "    <tr>\n",
       "      <th>1187</th>\n",
       "      <td>0</td>\n",
       "      <td>1.271623</td>\n",
       "      <td>1.268228</td>\n",
       "      <td>1.306256</td>\n",
       "      <td>1.262859</td>\n",
       "      <td>0.510163</td>\n",
       "      <td>0.469726</td>\n",
       "      <td>0.081995</td>\n",
       "      <td>0.363165</td>\n",
       "      <td>0.415449</td>\n",
       "      <td>...</td>\n",
       "      <td>0.593624</td>\n",
       "      <td>0.389333</td>\n",
       "      <td>0.661256</td>\n",
       "      <td>0.652286</td>\n",
       "      <td>0.476244</td>\n",
       "      <td>0.498042</td>\n",
       "      <td>0.802722</td>\n",
       "      <td>0.520887</td>\n",
       "      <td>0.855716</td>\n",
       "      <td>0.673893</td>\n",
       "    </tr>\n",
       "    <tr>\n",
       "      <th>1188</th>\n",
       "      <td>0</td>\n",
       "      <td>1.207214</td>\n",
       "      <td>1.221383</td>\n",
       "      <td>1.256210</td>\n",
       "      <td>1.224968</td>\n",
       "      <td>0.500678</td>\n",
       "      <td>0.462715</td>\n",
       "      <td>0.188657</td>\n",
       "      <td>0.261009</td>\n",
       "      <td>0.338457</td>\n",
       "      <td>...</td>\n",
       "      <td>0.510997</td>\n",
       "      <td>0.373247</td>\n",
       "      <td>0.648225</td>\n",
       "      <td>0.648538</td>\n",
       "      <td>0.451207</td>\n",
       "      <td>0.402229</td>\n",
       "      <td>0.751929</td>\n",
       "      <td>0.642836</td>\n",
       "      <td>0.819356</td>\n",
       "      <td>0.775758</td>\n",
       "    </tr>\n",
       "    <tr>\n",
       "      <th>1189</th>\n",
       "      <td>0</td>\n",
       "      <td>1.237946</td>\n",
       "      <td>1.239516</td>\n",
       "      <td>1.263101</td>\n",
       "      <td>1.216731</td>\n",
       "      <td>0.470190</td>\n",
       "      <td>0.442320</td>\n",
       "      <td>0.117607</td>\n",
       "      <td>0.255952</td>\n",
       "      <td>0.281460</td>\n",
       "      <td>...</td>\n",
       "      <td>0.519500</td>\n",
       "      <td>0.363101</td>\n",
       "      <td>0.635223</td>\n",
       "      <td>0.642581</td>\n",
       "      <td>0.431240</td>\n",
       "      <td>0.383564</td>\n",
       "      <td>0.791999</td>\n",
       "      <td>0.619001</td>\n",
       "      <td>0.819916</td>\n",
       "      <td>0.790236</td>\n",
       "    </tr>\n",
       "    <tr>\n",
       "      <th>1190</th>\n",
       "      <td>1</td>\n",
       "      <td>1.250092</td>\n",
       "      <td>1.248017</td>\n",
       "      <td>1.290481</td>\n",
       "      <td>1.243639</td>\n",
       "      <td>0.622629</td>\n",
       "      <td>0.544296</td>\n",
       "      <td>0.146788</td>\n",
       "      <td>0.230241</td>\n",
       "      <td>0.236060</td>\n",
       "      <td>...</td>\n",
       "      <td>0.601766</td>\n",
       "      <td>0.375687</td>\n",
       "      <td>0.640105</td>\n",
       "      <td>0.638926</td>\n",
       "      <td>0.452053</td>\n",
       "      <td>0.477606</td>\n",
       "      <td>0.813106</td>\n",
       "      <td>0.551006</td>\n",
       "      <td>0.865836</td>\n",
       "      <td>0.716386</td>\n",
       "    </tr>\n",
       "  </tbody>\n",
       "</table>\n",
       "<p>1191 rows × 27 columns</p>\n",
       "</div>"
      ],
      "text/plain": [
       "      漲跌category         0         1         2         3         4         5  \\\n",
       "0              0  0.944240  0.937099  0.978241  0.934102  0.464770  0.431485   \n",
       "1              0  0.953809  0.943332  0.987307  0.953688  0.537263  0.485660   \n",
       "2              3  0.941480  0.949377  0.993472  0.968149  0.682927  0.595921   \n",
       "3              1  0.924733  0.925576  0.972076  0.943072  0.590108  0.525813   \n",
       "4              1  0.975340  0.970910  1.021396  0.989200  0.632791  0.557043   \n",
       "...          ...       ...       ...       ...       ...       ...       ...   \n",
       "1186           2  1.249540  1.244617  1.280145  1.239246  0.422764  0.412365   \n",
       "1187           0  1.271623  1.268228  1.306256  1.262859  0.510163  0.469726   \n",
       "1188           0  1.207214  1.221383  1.256210  1.224968  0.500678  0.462715   \n",
       "1189           0  1.237946  1.239516  1.263101  1.216731  0.470190  0.442320   \n",
       "1190           1  1.250092  1.248017  1.290481  1.243639  0.622629  0.544296   \n",
       "\n",
       "             6         7         8  ...        16        17        18  \\\n",
       "0     0.327126  0.464438  0.569234  ...  0.515939  0.630782  0.919625   \n",
       "1     0.135614  0.422309  0.498152  ...  0.579315  0.642434  0.914725   \n",
       "2     0.268952  0.528972  0.464391  ...  0.624302  0.665235  0.916497   \n",
       "3     0.114519  0.632700  0.521860  ...  0.558748  0.655348  0.903549   \n",
       "4     0.256508  0.813277  0.655394  ...  0.679453  0.677109  0.915101   \n",
       "...        ...       ...       ...  ...       ...       ...       ...   \n",
       "1186  0.203733  0.422830  0.444397  ...  0.530859  0.382166  0.655063   \n",
       "1187  0.081995  0.363165  0.415449  ...  0.593624  0.389333  0.661256   \n",
       "1188  0.188657  0.261009  0.338457  ...  0.510997  0.373247  0.648225   \n",
       "1189  0.117607  0.255952  0.281460  ...  0.519500  0.363101  0.635223   \n",
       "1190  0.146788  0.230241  0.236060  ...  0.601766  0.375687  0.640105   \n",
       "\n",
       "            19        20        21        22        23        24        25  \n",
       "0     0.947583  0.473187  0.613555  0.829922  0.433227  0.869740  0.569704  \n",
       "1     0.945414  0.465490  0.656637  0.840203  0.434927  0.898401  0.543403  \n",
       "2     0.944082  0.473055  0.687299  0.842504  0.424380  0.912695  0.509381  \n",
       "3     0.940071  0.448828  0.617774  0.810987  0.499741  0.880701  0.602821  \n",
       "4     0.939491  0.479845  0.713208  0.867104  0.379886  0.935703  0.479053  \n",
       "...        ...       ...       ...       ...       ...       ...       ...  \n",
       "1186  0.653265  0.458105  0.412467  0.756677  0.583247  0.812099  0.736017  \n",
       "1187  0.652286  0.476244  0.498042  0.802722  0.520887  0.855716  0.673893  \n",
       "1188  0.648538  0.451207  0.402229  0.751929  0.642836  0.819356  0.775758  \n",
       "1189  0.642581  0.431240  0.383564  0.791999  0.619001  0.819916  0.790236  \n",
       "1190  0.638926  0.452053  0.477606  0.813106  0.551006  0.865836  0.716386  \n",
       "\n",
       "[1191 rows x 27 columns]"
      ]
     },
     "execution_count": 31,
     "metadata": {},
     "output_type": "execute_result"
    }
   ],
   "source": [
    "X_test"
   ]
  },
  {
   "cell_type": "code",
   "execution_count": 32,
   "metadata": {},
   "outputs": [
    {
     "data": {
      "text/plain": [
       "(1191, 2)"
      ]
     },
     "execution_count": 32,
     "metadata": {},
     "output_type": "execute_result"
    }
   ],
   "source": [
    "model2.predict_proba(X_test).shape"
   ]
  },
  {
   "cell_type": "code",
   "execution_count": 35,
   "metadata": {},
   "outputs": [
    {
     "name": "stdout",
     "output_type": "stream",
     "text": [
      "0.6772310258548792\n",
      "0.6835016835016835\n",
      "0.6710743801652893\n"
     ]
    },
    {
     "data": {
      "text/plain": [
       "0.7369573801934957"
      ]
     },
     "execution_count": 35,
     "metadata": {},
     "output_type": "execute_result"
    }
   ],
   "source": [
    "print(f1_score(y_test, model2.predict(X_test)))\n",
    "print(precision_score(y_test, model2.predict(X_test)))\n",
    "print(recall_score(y_test, model2.predict(X_test)) ) \n",
    "roc_auc_score(y_test, y_score = model2.predict_proba(X_test)[:, 1])\n"
   ]
  },
  {
   "cell_type": "code",
   "execution_count": 26,
   "metadata": {},
   "outputs": [
    {
     "data": {
      "text/plain": [
       "array([[398, 188],\n",
       "       [199, 406]], dtype=int64)"
      ]
     },
     "execution_count": 26,
     "metadata": {},
     "output_type": "execute_result"
    }
   ],
   "source": [
    "from sklearn.metrics import confusion_matrix, ConfusionMatrixDisplay, RocCurveDisplay\n",
    " \n",
    "cm = confusion_matrix(y_test, model2.predict(X_test))\n",
    "cm"
   ]
  },
  {
   "cell_type": "code",
   "execution_count": 23,
   "metadata": {},
   "outputs": [
    {
     "data": {
      "text/plain": [
       "array([0, 1], dtype=int64)"
      ]
     },
     "execution_count": 23,
     "metadata": {},
     "output_type": "execute_result"
    }
   ],
   "source": [
    "model2.classes_"
   ]
  },
  {
   "cell_type": "code",
   "execution_count": 24,
   "metadata": {},
   "outputs": [
    {
     "data": {
      "text/plain": [
       "<sklearn.metrics._plot.confusion_matrix.ConfusionMatrixDisplay at 0x11f62f797e0>"
      ]
     },
     "execution_count": 24,
     "metadata": {},
     "output_type": "execute_result"
    },
    {
     "data": {
      "image/png": "[encoded data removed]",
      "text/plain": [
       "<Figure size 640x480 with 2 Axes>"
      ]
     },
     "metadata": {},
     "output_type": "display_data"
    }
   ],
   "source": [
    "ConfusionMatrixDisplay(cm).plot()\n"
   ]
  },
  {
   "cell_type": "code",
   "execution_count": 27,
   "metadata": {},
   "outputs": [
    {
     "data": {
      "text/plain": [
       "<sklearn.metrics._plot.roc_curve.RocCurveDisplay at 0x11f61ddc7f0>"
      ]
     },
     "execution_count": 27,
     "metadata": {},
     "output_type": "execute_result"
    },
    {
     "data": {
      "image/png": "[encoded data removed]",
      "text/plain": [
       "<Figure size 640x480 with 1 Axes>"
      ]
     },
     "metadata": {},
     "output_type": "display_data"
    }
   ],
   "source": [
    "RocCurveDisplay.from_estimator(model2, X_test, y_test)"
   ]
  },
  {
   "cell_type": "code",
   "execution_count": null,
   "metadata": {},
   "outputs": [],
   "source": []
  },
  {
   "cell_type": "code",
   "execution_count": 14,
   "metadata": {},
   "outputs": [
    {
     "data": {
      "text/plain": [
       "0.8547074777218132"
      ]
     },
     "execution_count": 14,
     "metadata": {},
     "output_type": "execute_result"
    }
   ],
   "source": [
    "model2.score(X_train, y_train)"
   ]
  },
  {
   "cell_type": "code",
   "execution_count": 87,
   "metadata": {},
   "outputs": [
    {
     "data": {
      "text/html": [
       "<div>\n",
       "<style scoped>\n",
       "    .dataframe tbody tr th:only-of-type {\n",
       "        vertical-align: middle;\n",
       "    }\n",
       "\n",
       "    .dataframe tbody tr th {\n",
       "        vertical-align: top;\n",
       "    }\n",
       "\n",
       "    .dataframe thead th {\n",
       "        text-align: right;\n",
       "    }\n",
       "</style>\n",
       "<table border=\"1\" class=\"dataframe\">\n",
       "  <thead>\n",
       "    <tr style=\"text-align: right;\">\n",
       "      <th></th>\n",
       "      <th>交易日期</th>\n",
       "      <th>到期月份(週別)</th>\n",
       "      <th>開盤價</th>\n",
       "      <th>最高價</th>\n",
       "      <th>最低價</th>\n",
       "      <th>收盤價</th>\n",
       "      <th>漲跌價</th>\n",
       "      <th>漲跌%</th>\n",
       "      <th>成交量</th>\n",
       "      <th>隔日漲跌價</th>\n",
       "      <th>...</th>\n",
       "      <th>lowerband</th>\n",
       "      <th>band_width</th>\n",
       "      <th>BIAS20</th>\n",
       "      <th>BIAS60</th>\n",
       "      <th>BIAS5</th>\n",
       "      <th>OBV</th>\n",
       "      <th>macd</th>\n",
       "      <th>macdsignal</th>\n",
       "      <th>macdhist</th>\n",
       "      <th>RSI</th>\n",
       "    </tr>\n",
       "  </thead>\n",
       "  <tbody>\n",
       "    <tr>\n",
       "      <th>2580</th>\n",
       "      <td>2020-07-31</td>\n",
       "      <td>2020-08-01</td>\n",
       "      <td>12576</td>\n",
       "      <td>12596</td>\n",
       "      <td>12434</td>\n",
       "      <td>12590</td>\n",
       "      <td>-5</td>\n",
       "      <td>-0.0004</td>\n",
       "      <td>67106</td>\n",
       "      <td>-147.0</td>\n",
       "      <td>...</td>\n",
       "      <td>11964.599457</td>\n",
       "      <td>810.801085</td>\n",
       "      <td>0.017785</td>\n",
       "      <td>0.049912</td>\n",
       "      <td>0.002389</td>\n",
       "      <td>2624868.0</td>\n",
       "      <td>145.913003</td>\n",
       "      <td>136.529197</td>\n",
       "      <td>9.383806</td>\n",
       "      <td>57.959313</td>\n",
       "    </tr>\n",
       "    <tr>\n",
       "      <th>2581</th>\n",
       "      <td>2020-08-03</td>\n",
       "      <td>2020-08-01</td>\n",
       "      <td>12531</td>\n",
       "      <td>12567</td>\n",
       "      <td>12405</td>\n",
       "      <td>12443</td>\n",
       "      <td>-133</td>\n",
       "      <td>-0.0106</td>\n",
       "      <td>134894</td>\n",
       "      <td>107.0</td>\n",
       "      <td>...</td>\n",
       "      <td>12015.455015</td>\n",
       "      <td>750.289971</td>\n",
       "      <td>0.004229</td>\n",
       "      <td>0.036142</td>\n",
       "      <td>-0.010135</td>\n",
       "      <td>2489974.0</td>\n",
       "      <td>131.523769</td>\n",
       "      <td>135.528111</td>\n",
       "      <td>-4.004342</td>\n",
       "      <td>53.133627</td>\n",
       "    </tr>\n",
       "    <tr>\n",
       "      <th>2582</th>\n",
       "      <td>2020-08-03</td>\n",
       "      <td>2020-08-01</td>\n",
       "      <td>12583</td>\n",
       "      <td>12600</td>\n",
       "      <td>12455</td>\n",
       "      <td>12550</td>\n",
       "      <td>-26</td>\n",
       "      <td>-0.0021</td>\n",
       "      <td>56809</td>\n",
       "      <td>79.0</td>\n",
       "      <td>...</td>\n",
       "      <td>12069.287026</td>\n",
       "      <td>692.725949</td>\n",
       "      <td>0.010821</td>\n",
       "      <td>0.043393</td>\n",
       "      <td>-0.000892</td>\n",
       "      <td>2546783.0</td>\n",
       "      <td>127.286919</td>\n",
       "      <td>133.879873</td>\n",
       "      <td>-6.592954</td>\n",
       "      <td>56.005004</td>\n",
       "    </tr>\n",
       "    <tr>\n",
       "      <th>2583</th>\n",
       "      <td>2020-08-04</td>\n",
       "      <td>2020-08-01</td>\n",
       "      <td>12516</td>\n",
       "      <td>12632</td>\n",
       "      <td>12489</td>\n",
       "      <td>12629</td>\n",
       "      <td>189</td>\n",
       "      <td>0.0152</td>\n",
       "      <td>111175</td>\n",
       "      <td>-137.0</td>\n",
       "      <td>...</td>\n",
       "      <td>12079.511345</td>\n",
       "      <td>706.277311</td>\n",
       "      <td>0.015793</td>\n",
       "      <td>0.048190</td>\n",
       "      <td>0.005670</td>\n",
       "      <td>2657958.0</td>\n",
       "      <td>128.818880</td>\n",
       "      <td>132.867674</td>\n",
       "      <td>-4.048794</td>\n",
       "      <td>58.048638</td>\n",
       "    </tr>\n",
       "    <tr>\n",
       "      <th>2584</th>\n",
       "      <td>2020-08-04</td>\n",
       "      <td>2020-08-01</td>\n",
       "      <td>12425</td>\n",
       "      <td>12506</td>\n",
       "      <td>12371</td>\n",
       "      <td>12492</td>\n",
       "      <td>52</td>\n",
       "      <td>0.0042</td>\n",
       "      <td>48208</td>\n",
       "      <td>252.0</td>\n",
       "      <td>...</td>\n",
       "      <td>12131.401076</td>\n",
       "      <td>640.997847</td>\n",
       "      <td>0.003220</td>\n",
       "      <td>0.035293</td>\n",
       "      <td>-0.003891</td>\n",
       "      <td>2609750.0</td>\n",
       "      <td>117.622339</td>\n",
       "      <td>129.818607</td>\n",
       "      <td>-12.196268</td>\n",
       "      <td>53.414813</td>\n",
       "    </tr>\n",
       "    <tr>\n",
       "      <th>...</th>\n",
       "      <td>...</td>\n",
       "      <td>...</td>\n",
       "      <td>...</td>\n",
       "      <td>...</td>\n",
       "      <td>...</td>\n",
       "      <td>...</td>\n",
       "      <td>...</td>\n",
       "      <td>...</td>\n",
       "      <td>...</td>\n",
       "      <td>...</td>\n",
       "      <td>...</td>\n",
       "      <td>...</td>\n",
       "      <td>...</td>\n",
       "      <td>...</td>\n",
       "      <td>...</td>\n",
       "      <td>...</td>\n",
       "      <td>...</td>\n",
       "      <td>...</td>\n",
       "      <td>...</td>\n",
       "      <td>...</td>\n",
       "      <td>...</td>\n",
       "    </tr>\n",
       "    <tr>\n",
       "      <th>3767</th>\n",
       "      <td>2022-12-28</td>\n",
       "      <td>2023-01-01</td>\n",
       "      <td>14190</td>\n",
       "      <td>14195</td>\n",
       "      <td>14070</td>\n",
       "      <td>14110</td>\n",
       "      <td>-195</td>\n",
       "      <td>-0.0136</td>\n",
       "      <td>84583</td>\n",
       "      <td>129.0</td>\n",
       "      <td>...</td>\n",
       "      <td>14018.654978</td>\n",
       "      <td>636.790044</td>\n",
       "      <td>-0.015837</td>\n",
       "      <td>-0.030197</td>\n",
       "      <td>-0.007959</td>\n",
       "      <td>1277773.0</td>\n",
       "      <td>-97.257386</td>\n",
       "      <td>-88.181003</td>\n",
       "      <td>-9.076383</td>\n",
       "      <td>39.731027</td>\n",
       "    </tr>\n",
       "    <tr>\n",
       "      <th>3768</th>\n",
       "      <td>2022-12-28</td>\n",
       "      <td>2023-01-01</td>\n",
       "      <td>14310</td>\n",
       "      <td>14320</td>\n",
       "      <td>14214</td>\n",
       "      <td>14239</td>\n",
       "      <td>-66</td>\n",
       "      <td>-0.0046</td>\n",
       "      <td>34947</td>\n",
       "      <td>-207.0</td>\n",
       "      <td>...</td>\n",
       "      <td>14022.071726</td>\n",
       "      <td>593.856548</td>\n",
       "      <td>-0.005587</td>\n",
       "      <td>-0.020814</td>\n",
       "      <td>0.001195</td>\n",
       "      <td>1312720.0</td>\n",
       "      <td>-91.901233</td>\n",
       "      <td>-88.925049</td>\n",
       "      <td>-2.976183</td>\n",
       "      <td>45.434656</td>\n",
       "    </tr>\n",
       "    <tr>\n",
       "      <th>3769</th>\n",
       "      <td>2022-12-29</td>\n",
       "      <td>2023-01-01</td>\n",
       "      <td>13960</td>\n",
       "      <td>14072</td>\n",
       "      <td>13938</td>\n",
       "      <td>14032</td>\n",
       "      <td>-80</td>\n",
       "      <td>-0.0057</td>\n",
       "      <td>78436</td>\n",
       "      <td>-45.0</td>\n",
       "      <td>...</td>\n",
       "      <td>14020.991295</td>\n",
       "      <td>528.417411</td>\n",
       "      <td>-0.017725</td>\n",
       "      <td>-0.034516</td>\n",
       "      <td>-0.010856</td>\n",
       "      <td>1234284.0</td>\n",
       "      <td>-103.170329</td>\n",
       "      <td>-91.774105</td>\n",
       "      <td>-11.396224</td>\n",
       "      <td>39.048656</td>\n",
       "    </tr>\n",
       "    <tr>\n",
       "      <th>3770</th>\n",
       "      <td>2022-12-29</td>\n",
       "      <td>2023-01-01</td>\n",
       "      <td>14127</td>\n",
       "      <td>14168</td>\n",
       "      <td>13976</td>\n",
       "      <td>13987</td>\n",
       "      <td>-125</td>\n",
       "      <td>-0.0089</td>\n",
       "      <td>49467</td>\n",
       "      <td>147.0</td>\n",
       "      <td>...</td>\n",
       "      <td>14005.257042</td>\n",
       "      <td>496.985915</td>\n",
       "      <td>-0.018714</td>\n",
       "      <td>-0.037122</td>\n",
       "      <td>-0.009616</td>\n",
       "      <td>1184817.0</td>\n",
       "      <td>-114.413406</td>\n",
       "      <td>-96.301965</td>\n",
       "      <td>-18.111441</td>\n",
       "      <td>37.804675</td>\n",
       "    </tr>\n",
       "    <tr>\n",
       "      <th>3771</th>\n",
       "      <td>2022-12-30</td>\n",
       "      <td>2023-01-01</td>\n",
       "      <td>14193</td>\n",
       "      <td>14213</td>\n",
       "      <td>14127</td>\n",
       "      <td>14134</td>\n",
       "      <td>100</td>\n",
       "      <td>0.0071</td>\n",
       "      <td>61365</td>\n",
       "      <td>77.0</td>\n",
       "      <td>...</td>\n",
       "      <td>14002.970992</td>\n",
       "      <td>468.858017</td>\n",
       "      <td>-0.007263</td>\n",
       "      <td>-0.026639</td>\n",
       "      <td>0.002383</td>\n",
       "      <td>1246182.0</td>\n",
       "      <td>-110.191733</td>\n",
       "      <td>-99.079919</td>\n",
       "      <td>-11.111814</td>\n",
       "      <td>44.072577</td>\n",
       "    </tr>\n",
       "  </tbody>\n",
       "</table>\n",
       "<p>1192 rows × 27 columns</p>\n",
       "</div>"
      ],
      "text/plain": [
       "            交易日期    到期月份(週別)    開盤價    最高價    最低價    收盤價  漲跌價     漲跌%     成交量  \\\n",
       "2580  2020-07-31  2020-08-01  12576  12596  12434  12590   -5 -0.0004   67106   \n",
       "2581  2020-08-03  2020-08-01  12531  12567  12405  12443 -133 -0.0106  134894   \n",
       "2582  2020-08-03  2020-08-01  12583  12600  12455  12550  -26 -0.0021   56809   \n",
       "2583  2020-08-04  2020-08-01  12516  12632  12489  12629  189  0.0152  111175   \n",
       "2584  2020-08-04  2020-08-01  12425  12506  12371  12492   52  0.0042   48208   \n",
       "...          ...         ...    ...    ...    ...    ...  ...     ...     ...   \n",
       "3767  2022-12-28  2023-01-01  14190  14195  14070  14110 -195 -0.0136   84583   \n",
       "3768  2022-12-28  2023-01-01  14310  14320  14214  14239  -66 -0.0046   34947   \n",
       "3769  2022-12-29  2023-01-01  13960  14072  13938  14032  -80 -0.0057   78436   \n",
       "3770  2022-12-29  2023-01-01  14127  14168  13976  13987 -125 -0.0089   49467   \n",
       "3771  2022-12-30  2023-01-01  14193  14213  14127  14134  100  0.0071   61365   \n",
       "\n",
       "      隔日漲跌價  ...     lowerband  band_width    BIAS20    BIAS60     BIAS5  \\\n",
       "2580 -147.0  ...  11964.599457  810.801085  0.017785  0.049912  0.002389   \n",
       "2581  107.0  ...  12015.455015  750.289971  0.004229  0.036142 -0.010135   \n",
       "2582   79.0  ...  12069.287026  692.725949  0.010821  0.043393 -0.000892   \n",
       "2583 -137.0  ...  12079.511345  706.277311  0.015793  0.048190  0.005670   \n",
       "2584  252.0  ...  12131.401076  640.997847  0.003220  0.035293 -0.003891   \n",
       "...     ...  ...           ...         ...       ...       ...       ...   \n",
       "3767  129.0  ...  14018.654978  636.790044 -0.015837 -0.030197 -0.007959   \n",
       "3768 -207.0  ...  14022.071726  593.856548 -0.005587 -0.020814  0.001195   \n",
       "3769  -45.0  ...  14020.991295  528.417411 -0.017725 -0.034516 -0.010856   \n",
       "3770  147.0  ...  14005.257042  496.985915 -0.018714 -0.037122 -0.009616   \n",
       "3771   77.0  ...  14002.970992  468.858017 -0.007263 -0.026639  0.002383   \n",
       "\n",
       "            OBV        macd  macdsignal   macdhist        RSI  \n",
       "2580  2624868.0  145.913003  136.529197   9.383806  57.959313  \n",
       "2581  2489974.0  131.523769  135.528111  -4.004342  53.133627  \n",
       "2582  2546783.0  127.286919  133.879873  -6.592954  56.005004  \n",
       "2583  2657958.0  128.818880  132.867674  -4.048794  58.048638  \n",
       "2584  2609750.0  117.622339  129.818607 -12.196268  53.414813  \n",
       "...         ...         ...         ...        ...        ...  \n",
       "3767  1277773.0  -97.257386  -88.181003  -9.076383  39.731027  \n",
       "3768  1312720.0  -91.901233  -88.925049  -2.976183  45.434656  \n",
       "3769  1234284.0 -103.170329  -91.774105 -11.396224  39.048656  \n",
       "3770  1184817.0 -114.413406  -96.301965 -18.111441  37.804675  \n",
       "3771  1246182.0 -110.191733  -99.079919 -11.111814  44.072577  \n",
       "\n",
       "[1192 rows x 27 columns]"
      ]
     },
     "execution_count": 87,
     "metadata": {},
     "output_type": "execute_result"
    }
   ],
   "source": [
    "backtest_df = pd.read_csv('data_new.csv')\n",
    "backtest_df = backtest_df[2580:]\n",
    "backtest_df"
   ]
  },
  {
   "cell_type": "code",
   "execution_count": 88,
   "metadata": {},
   "outputs": [
    {
     "name": "stderr",
     "output_type": "stream",
     "text": [
      "C:\\Users\\Swifte\\AppData\\Local\\Temp\\ipykernel_33484\\2969181283.py:2: SettingWithCopyWarning: \n",
      "A value is trying to be set on a copy of a slice from a DataFrame\n",
      "\n",
      "See the caveats in the documentation: https://pandas.pydata.org/pandas-docs/stable/user_guide/indexing.html#returning-a-view-versus-a-copy\n",
      "  backtest_df.drop(backtest_df.tail(1).index, inplace=True)\n"
     ]
    },
    {
     "data": {
      "text/html": [
       "<div>\n",
       "<style scoped>\n",
       "    .dataframe tbody tr th:only-of-type {\n",
       "        vertical-align: middle;\n",
       "    }\n",
       "\n",
       "    .dataframe tbody tr th {\n",
       "        vertical-align: top;\n",
       "    }\n",
       "\n",
       "    .dataframe thead th {\n",
       "        text-align: right;\n",
       "    }\n",
       "</style>\n",
       "<table border=\"1\" class=\"dataframe\">\n",
       "  <thead>\n",
       "    <tr style=\"text-align: right;\">\n",
       "      <th></th>\n",
       "      <th>開盤價</th>\n",
       "      <th>收盤價</th>\n",
       "    </tr>\n",
       "  </thead>\n",
       "  <tbody>\n",
       "    <tr>\n",
       "      <th>2580</th>\n",
       "      <td>12576</td>\n",
       "      <td>12590</td>\n",
       "    </tr>\n",
       "    <tr>\n",
       "      <th>2581</th>\n",
       "      <td>12531</td>\n",
       "      <td>12443</td>\n",
       "    </tr>\n",
       "    <tr>\n",
       "      <th>2582</th>\n",
       "      <td>12583</td>\n",
       "      <td>12550</td>\n",
       "    </tr>\n",
       "    <tr>\n",
       "      <th>2583</th>\n",
       "      <td>12516</td>\n",
       "      <td>12629</td>\n",
       "    </tr>\n",
       "    <tr>\n",
       "      <th>2584</th>\n",
       "      <td>12425</td>\n",
       "      <td>12492</td>\n",
       "    </tr>\n",
       "    <tr>\n",
       "      <th>...</th>\n",
       "      <td>...</td>\n",
       "      <td>...</td>\n",
       "    </tr>\n",
       "    <tr>\n",
       "      <th>3766</th>\n",
       "      <td>14249</td>\n",
       "      <td>14246</td>\n",
       "    </tr>\n",
       "    <tr>\n",
       "      <th>3767</th>\n",
       "      <td>14190</td>\n",
       "      <td>14110</td>\n",
       "    </tr>\n",
       "    <tr>\n",
       "      <th>3768</th>\n",
       "      <td>14310</td>\n",
       "      <td>14239</td>\n",
       "    </tr>\n",
       "    <tr>\n",
       "      <th>3769</th>\n",
       "      <td>13960</td>\n",
       "      <td>14032</td>\n",
       "    </tr>\n",
       "    <tr>\n",
       "      <th>3770</th>\n",
       "      <td>14127</td>\n",
       "      <td>13987</td>\n",
       "    </tr>\n",
       "  </tbody>\n",
       "</table>\n",
       "<p>1191 rows × 2 columns</p>\n",
       "</div>"
      ],
      "text/plain": [
       "        開盤價    收盤價\n",
       "2580  12576  12590\n",
       "2581  12531  12443\n",
       "2582  12583  12550\n",
       "2583  12516  12629\n",
       "2584  12425  12492\n",
       "...     ...    ...\n",
       "3766  14249  14246\n",
       "3767  14190  14110\n",
       "3768  14310  14239\n",
       "3769  13960  14032\n",
       "3770  14127  13987\n",
       "\n",
       "[1191 rows x 2 columns]"
      ]
     },
     "execution_count": 88,
     "metadata": {},
     "output_type": "execute_result"
    }
   ],
   "source": [
    "backtest_df = backtest_df[['開盤價', '收盤價']]\n",
    "backtest_df.drop(backtest_df.tail(1).index, inplace=True)\n",
    "backtest_df"
   ]
  },
  {
   "cell_type": "code",
   "execution_count": 89,
   "metadata": {},
   "outputs": [
    {
     "data": {
      "text/html": [
       "<div>\n",
       "<style scoped>\n",
       "    .dataframe tbody tr th:only-of-type {\n",
       "        vertical-align: middle;\n",
       "    }\n",
       "\n",
       "    .dataframe tbody tr th {\n",
       "        vertical-align: top;\n",
       "    }\n",
       "\n",
       "    .dataframe thead th {\n",
       "        text-align: right;\n",
       "    }\n",
       "</style>\n",
       "<table border=\"1\" class=\"dataframe\">\n",
       "  <thead>\n",
       "    <tr style=\"text-align: right;\">\n",
       "      <th></th>\n",
       "      <th>0</th>\n",
       "      <th>1</th>\n",
       "    </tr>\n",
       "  </thead>\n",
       "  <tbody>\n",
       "    <tr>\n",
       "      <th>0</th>\n",
       "      <td>0.364374</td>\n",
       "      <td>0.635626</td>\n",
       "    </tr>\n",
       "    <tr>\n",
       "      <th>1</th>\n",
       "      <td>0.506805</td>\n",
       "      <td>0.493195</td>\n",
       "    </tr>\n",
       "    <tr>\n",
       "      <th>2</th>\n",
       "      <td>0.793736</td>\n",
       "      <td>0.206264</td>\n",
       "    </tr>\n",
       "    <tr>\n",
       "      <th>3</th>\n",
       "      <td>0.277807</td>\n",
       "      <td>0.722193</td>\n",
       "    </tr>\n",
       "    <tr>\n",
       "      <th>4</th>\n",
       "      <td>0.834282</td>\n",
       "      <td>0.165718</td>\n",
       "    </tr>\n",
       "    <tr>\n",
       "      <th>...</th>\n",
       "      <td>...</td>\n",
       "      <td>...</td>\n",
       "    </tr>\n",
       "    <tr>\n",
       "      <th>1186</th>\n",
       "      <td>0.231917</td>\n",
       "      <td>0.768083</td>\n",
       "    </tr>\n",
       "    <tr>\n",
       "      <th>1187</th>\n",
       "      <td>0.572205</td>\n",
       "      <td>0.427795</td>\n",
       "    </tr>\n",
       "    <tr>\n",
       "      <th>1188</th>\n",
       "      <td>0.329360</td>\n",
       "      <td>0.670640</td>\n",
       "    </tr>\n",
       "    <tr>\n",
       "      <th>1189</th>\n",
       "      <td>0.445492</td>\n",
       "      <td>0.554508</td>\n",
       "    </tr>\n",
       "    <tr>\n",
       "      <th>1190</th>\n",
       "      <td>0.723004</td>\n",
       "      <td>0.276996</td>\n",
       "    </tr>\n",
       "  </tbody>\n",
       "</table>\n",
       "<p>1191 rows × 2 columns</p>\n",
       "</div>"
      ],
      "text/plain": [
       "             0         1\n",
       "0     0.364374  0.635626\n",
       "1     0.506805  0.493195\n",
       "2     0.793736  0.206264\n",
       "3     0.277807  0.722193\n",
       "4     0.834282  0.165718\n",
       "...        ...       ...\n",
       "1186  0.231917  0.768083\n",
       "1187  0.572205  0.427795\n",
       "1188  0.329360  0.670640\n",
       "1189  0.445492  0.554508\n",
       "1190  0.723004  0.276996\n",
       "\n",
       "[1191 rows x 2 columns]"
      ]
     },
     "execution_count": 89,
     "metadata": {},
     "output_type": "execute_result"
    }
   ],
   "source": [
    "pd.DataFrame(model2.predict_proba(X_test))"
   ]
  },
  {
   "cell_type": "code",
   "execution_count": 90,
   "metadata": {},
   "outputs": [],
   "source": [
    "label = pd.DataFrame(model.predict(X_test)).rename(columns={0:'label'})"
   ]
  },
  {
   "cell_type": "code",
   "execution_count": 91,
   "metadata": {},
   "outputs": [
    {
     "data": {
      "text/html": [
       "<div>\n",
       "<style scoped>\n",
       "    .dataframe tbody tr th:only-of-type {\n",
       "        vertical-align: middle;\n",
       "    }\n",
       "\n",
       "    .dataframe tbody tr th {\n",
       "        vertical-align: top;\n",
       "    }\n",
       "\n",
       "    .dataframe thead th {\n",
       "        text-align: right;\n",
       "    }\n",
       "</style>\n",
       "<table border=\"1\" class=\"dataframe\">\n",
       "  <thead>\n",
       "    <tr style=\"text-align: right;\">\n",
       "      <th></th>\n",
       "      <th>index</th>\n",
       "      <th>開盤價</th>\n",
       "      <th>收盤價</th>\n",
       "      <th>0</th>\n",
       "      <th>1</th>\n",
       "      <th>label</th>\n",
       "    </tr>\n",
       "  </thead>\n",
       "  <tbody>\n",
       "    <tr>\n",
       "      <th>0</th>\n",
       "      <td>2580</td>\n",
       "      <td>12576</td>\n",
       "      <td>12590</td>\n",
       "      <td>0.364374</td>\n",
       "      <td>0.635626</td>\n",
       "      <td>1</td>\n",
       "    </tr>\n",
       "    <tr>\n",
       "      <th>1</th>\n",
       "      <td>2581</td>\n",
       "      <td>12531</td>\n",
       "      <td>12443</td>\n",
       "      <td>0.506805</td>\n",
       "      <td>0.493195</td>\n",
       "      <td>0</td>\n",
       "    </tr>\n",
       "    <tr>\n",
       "      <th>2</th>\n",
       "      <td>2582</td>\n",
       "      <td>12583</td>\n",
       "      <td>12550</td>\n",
       "      <td>0.793736</td>\n",
       "      <td>0.206264</td>\n",
       "      <td>0</td>\n",
       "    </tr>\n",
       "    <tr>\n",
       "      <th>3</th>\n",
       "      <td>2583</td>\n",
       "      <td>12516</td>\n",
       "      <td>12629</td>\n",
       "      <td>0.277807</td>\n",
       "      <td>0.722193</td>\n",
       "      <td>1</td>\n",
       "    </tr>\n",
       "    <tr>\n",
       "      <th>4</th>\n",
       "      <td>2584</td>\n",
       "      <td>12425</td>\n",
       "      <td>12492</td>\n",
       "      <td>0.834282</td>\n",
       "      <td>0.165718</td>\n",
       "      <td>0</td>\n",
       "    </tr>\n",
       "    <tr>\n",
       "      <th>...</th>\n",
       "      <td>...</td>\n",
       "      <td>...</td>\n",
       "      <td>...</td>\n",
       "      <td>...</td>\n",
       "      <td>...</td>\n",
       "      <td>...</td>\n",
       "    </tr>\n",
       "    <tr>\n",
       "      <th>1186</th>\n",
       "      <td>3766</td>\n",
       "      <td>14249</td>\n",
       "      <td>14246</td>\n",
       "      <td>0.231917</td>\n",
       "      <td>0.768083</td>\n",
       "      <td>1</td>\n",
       "    </tr>\n",
       "    <tr>\n",
       "      <th>1187</th>\n",
       "      <td>3767</td>\n",
       "      <td>14190</td>\n",
       "      <td>14110</td>\n",
       "      <td>0.572205</td>\n",
       "      <td>0.427795</td>\n",
       "      <td>0</td>\n",
       "    </tr>\n",
       "    <tr>\n",
       "      <th>1188</th>\n",
       "      <td>3768</td>\n",
       "      <td>14310</td>\n",
       "      <td>14239</td>\n",
       "      <td>0.329360</td>\n",
       "      <td>0.670640</td>\n",
       "      <td>1</td>\n",
       "    </tr>\n",
       "    <tr>\n",
       "      <th>1189</th>\n",
       "      <td>3769</td>\n",
       "      <td>13960</td>\n",
       "      <td>14032</td>\n",
       "      <td>0.445492</td>\n",
       "      <td>0.554508</td>\n",
       "      <td>1</td>\n",
       "    </tr>\n",
       "    <tr>\n",
       "      <th>1190</th>\n",
       "      <td>3770</td>\n",
       "      <td>14127</td>\n",
       "      <td>13987</td>\n",
       "      <td>0.723004</td>\n",
       "      <td>0.276996</td>\n",
       "      <td>0</td>\n",
       "    </tr>\n",
       "  </tbody>\n",
       "</table>\n",
       "<p>1191 rows × 6 columns</p>\n",
       "</div>"
      ],
      "text/plain": [
       "      index    開盤價    收盤價         0         1  label\n",
       "0      2580  12576  12590  0.364374  0.635626      1\n",
       "1      2581  12531  12443  0.506805  0.493195      0\n",
       "2      2582  12583  12550  0.793736  0.206264      0\n",
       "3      2583  12516  12629  0.277807  0.722193      1\n",
       "4      2584  12425  12492  0.834282  0.165718      0\n",
       "...     ...    ...    ...       ...       ...    ...\n",
       "1186   3766  14249  14246  0.231917  0.768083      1\n",
       "1187   3767  14190  14110  0.572205  0.427795      0\n",
       "1188   3768  14310  14239  0.329360  0.670640      1\n",
       "1189   3769  13960  14032  0.445492  0.554508      1\n",
       "1190   3770  14127  13987  0.723004  0.276996      0\n",
       "\n",
       "[1191 rows x 6 columns]"
      ]
     },
     "execution_count": 91,
     "metadata": {},
     "output_type": "execute_result"
    }
   ],
   "source": [
    "backtest_df = pd.concat([backtest_df.reset_index(), pd.DataFrame(model2.predict_proba(X_test)), label], axis=1)\n",
    "backtest_df"
   ]
  },
  {
   "cell_type": "code",
   "execution_count": 92,
   "metadata": {},
   "outputs": [
    {
     "data": {
      "text/plain": [
       "Index(['index', '開盤價', '收盤價', 0, 1, 'label'], dtype='object')"
      ]
     },
     "execution_count": 92,
     "metadata": {},
     "output_type": "execute_result"
    }
   ],
   "source": [
    "backtest_df.columns"
   ]
  },
  {
   "cell_type": "code",
   "execution_count": 93,
   "metadata": {},
   "outputs": [],
   "source": [
    "backtest_df['Profit'] = (backtest_df['開盤價'] - backtest_df['收盤價']) * backtest_df[0] + (backtest_df['收盤價'] - backtest_df['開盤價']) * backtest_df[1]\n",
    "# backtest_df.apply(lambda x: (x['開盤價'] - x['收盤價']) * x['0'] + (x['收盤價'] - x['開盤價']) * x['1'])"
   ]
  },
  {
   "cell_type": "code",
   "execution_count": 102,
   "metadata": {},
   "outputs": [],
   "source": [
    "def func(row):\n",
    "    if row['label'] == 1:\n",
    "        return row['收盤價'] - row['開盤價']\n",
    "    else:\n",
    "        return row['開盤價'] - row['收盤價']\n",
    "    "
   ]
  },
  {
   "cell_type": "code",
   "execution_count": 103,
   "metadata": {},
   "outputs": [
    {
     "data": {
      "text/html": [
       "<div>\n",
       "<style scoped>\n",
       "    .dataframe tbody tr th:only-of-type {\n",
       "        vertical-align: middle;\n",
       "    }\n",
       "\n",
       "    .dataframe tbody tr th {\n",
       "        vertical-align: top;\n",
       "    }\n",
       "\n",
       "    .dataframe thead th {\n",
       "        text-align: right;\n",
       "    }\n",
       "</style>\n",
       "<table border=\"1\" class=\"dataframe\">\n",
       "  <thead>\n",
       "    <tr style=\"text-align: right;\">\n",
       "      <th></th>\n",
       "      <th>index</th>\n",
       "      <th>開盤價</th>\n",
       "      <th>收盤價</th>\n",
       "      <th>0</th>\n",
       "      <th>1</th>\n",
       "      <th>label</th>\n",
       "      <th>Profit</th>\n",
       "      <th>Single Side</th>\n",
       "    </tr>\n",
       "  </thead>\n",
       "  <tbody>\n",
       "    <tr>\n",
       "      <th>0</th>\n",
       "      <td>2580</td>\n",
       "      <td>12576</td>\n",
       "      <td>12590</td>\n",
       "      <td>0.364374</td>\n",
       "      <td>0.635626</td>\n",
       "      <td>1</td>\n",
       "      <td>3.797541</td>\n",
       "      <td>14.0</td>\n",
       "    </tr>\n",
       "    <tr>\n",
       "      <th>1</th>\n",
       "      <td>2581</td>\n",
       "      <td>12531</td>\n",
       "      <td>12443</td>\n",
       "      <td>0.506805</td>\n",
       "      <td>0.493195</td>\n",
       "      <td>0</td>\n",
       "      <td>1.197750</td>\n",
       "      <td>88.0</td>\n",
       "    </tr>\n",
       "    <tr>\n",
       "      <th>2</th>\n",
       "      <td>2582</td>\n",
       "      <td>12583</td>\n",
       "      <td>12550</td>\n",
       "      <td>0.793736</td>\n",
       "      <td>0.206264</td>\n",
       "      <td>0</td>\n",
       "      <td>19.386558</td>\n",
       "      <td>33.0</td>\n",
       "    </tr>\n",
       "    <tr>\n",
       "      <th>3</th>\n",
       "      <td>2583</td>\n",
       "      <td>12516</td>\n",
       "      <td>12629</td>\n",
       "      <td>0.277807</td>\n",
       "      <td>0.722193</td>\n",
       "      <td>1</td>\n",
       "      <td>50.215642</td>\n",
       "      <td>113.0</td>\n",
       "    </tr>\n",
       "    <tr>\n",
       "      <th>4</th>\n",
       "      <td>2584</td>\n",
       "      <td>12425</td>\n",
       "      <td>12492</td>\n",
       "      <td>0.834282</td>\n",
       "      <td>0.165718</td>\n",
       "      <td>0</td>\n",
       "      <td>-44.793765</td>\n",
       "      <td>-67.0</td>\n",
       "    </tr>\n",
       "    <tr>\n",
       "      <th>...</th>\n",
       "      <td>...</td>\n",
       "      <td>...</td>\n",
       "      <td>...</td>\n",
       "      <td>...</td>\n",
       "      <td>...</td>\n",
       "      <td>...</td>\n",
       "      <td>...</td>\n",
       "      <td>...</td>\n",
       "    </tr>\n",
       "    <tr>\n",
       "      <th>1186</th>\n",
       "      <td>3766</td>\n",
       "      <td>14249</td>\n",
       "      <td>14246</td>\n",
       "      <td>0.231917</td>\n",
       "      <td>0.768083</td>\n",
       "      <td>1</td>\n",
       "      <td>-1.608500</td>\n",
       "      <td>-3.0</td>\n",
       "    </tr>\n",
       "    <tr>\n",
       "      <th>1187</th>\n",
       "      <td>3767</td>\n",
       "      <td>14190</td>\n",
       "      <td>14110</td>\n",
       "      <td>0.572205</td>\n",
       "      <td>0.427795</td>\n",
       "      <td>0</td>\n",
       "      <td>11.552748</td>\n",
       "      <td>80.0</td>\n",
       "    </tr>\n",
       "    <tr>\n",
       "      <th>1188</th>\n",
       "      <td>3768</td>\n",
       "      <td>14310</td>\n",
       "      <td>14239</td>\n",
       "      <td>0.329360</td>\n",
       "      <td>0.670640</td>\n",
       "      <td>1</td>\n",
       "      <td>-24.230896</td>\n",
       "      <td>-71.0</td>\n",
       "    </tr>\n",
       "    <tr>\n",
       "      <th>1189</th>\n",
       "      <td>3769</td>\n",
       "      <td>13960</td>\n",
       "      <td>14032</td>\n",
       "      <td>0.445492</td>\n",
       "      <td>0.554508</td>\n",
       "      <td>1</td>\n",
       "      <td>7.849135</td>\n",
       "      <td>72.0</td>\n",
       "    </tr>\n",
       "    <tr>\n",
       "      <th>1190</th>\n",
       "      <td>3770</td>\n",
       "      <td>14127</td>\n",
       "      <td>13987</td>\n",
       "      <td>0.723004</td>\n",
       "      <td>0.276996</td>\n",
       "      <td>0</td>\n",
       "      <td>62.441204</td>\n",
       "      <td>140.0</td>\n",
       "    </tr>\n",
       "  </tbody>\n",
       "</table>\n",
       "<p>1191 rows × 8 columns</p>\n",
       "</div>"
      ],
      "text/plain": [
       "      index    開盤價    收盤價         0         1  label     Profit  Single Side\n",
       "0      2580  12576  12590  0.364374  0.635626      1   3.797541         14.0\n",
       "1      2581  12531  12443  0.506805  0.493195      0   1.197750         88.0\n",
       "2      2582  12583  12550  0.793736  0.206264      0  19.386558         33.0\n",
       "3      2583  12516  12629  0.277807  0.722193      1  50.215642        113.0\n",
       "4      2584  12425  12492  0.834282  0.165718      0 -44.793765        -67.0\n",
       "...     ...    ...    ...       ...       ...    ...        ...          ...\n",
       "1186   3766  14249  14246  0.231917  0.768083      1  -1.608500         -3.0\n",
       "1187   3767  14190  14110  0.572205  0.427795      0  11.552748         80.0\n",
       "1188   3768  14310  14239  0.329360  0.670640      1 -24.230896        -71.0\n",
       "1189   3769  13960  14032  0.445492  0.554508      1   7.849135         72.0\n",
       "1190   3770  14127  13987  0.723004  0.276996      0  62.441204        140.0\n",
       "\n",
       "[1191 rows x 8 columns]"
      ]
     },
     "execution_count": 103,
     "metadata": {},
     "output_type": "execute_result"
    }
   ],
   "source": [
    "backtest_df['Single Side'] = backtest_df.apply(func, axis=1)\n",
    "backtest_df"
   ]
  },
  {
   "cell_type": "code",
   "execution_count": 104,
   "metadata": {},
   "outputs": [
    {
     "data": {
      "text/plain": [
       "14309.0"
      ]
     },
     "execution_count": 104,
     "metadata": {},
     "output_type": "execute_result"
    }
   ],
   "source": [
    "backtest_df['Single Side'].sum()"
   ]
  },
  {
   "cell_type": "code",
   "execution_count": 105,
   "metadata": {},
   "outputs": [
    {
     "data": {
      "text/plain": [
       "12.014273719563391"
      ]
     },
     "execution_count": 105,
     "metadata": {},
     "output_type": "execute_result"
    }
   ],
   "source": [
    "backtest_df['Single Side'].mean()"
   ]
  },
  {
   "cell_type": "code",
   "execution_count": 109,
   "metadata": {},
   "outputs": [
    {
     "data": {
      "text/plain": [
       "584.0"
      ]
     },
     "execution_count": 109,
     "metadata": {},
     "output_type": "execute_result"
    }
   ],
   "source": [
    "backtest_df['Single Side'].max()"
   ]
  },
  {
   "cell_type": "code",
   "execution_count": 110,
   "metadata": {},
   "outputs": [
    {
     "data": {
      "text/plain": [
       "-811.0"
      ]
     },
     "execution_count": 110,
     "metadata": {},
     "output_type": "execute_result"
    }
   ],
   "source": [
    "backtest_df['Single Side'].min()"
   ]
  },
  {
   "cell_type": "code",
   "execution_count": 111,
   "metadata": {},
   "outputs": [
    {
     "data": {
      "text/plain": [
       "116.84092021387822"
      ]
     },
     "execution_count": 111,
     "metadata": {},
     "output_type": "execute_result"
    }
   ],
   "source": [
    "backtest_df['Single Side'].std()"
   ]
  },
  {
   "cell_type": "code",
   "execution_count": 71,
   "metadata": {},
   "outputs": [
    {
     "data": {
      "text/plain": [
       "3428.84506542881"
      ]
     },
     "execution_count": 71,
     "metadata": {},
     "output_type": "execute_result"
    }
   ],
   "source": [
    "backtest_df['Profit'].sum()"
   ]
  },
  {
   "cell_type": "code",
   "execution_count": 77,
   "metadata": {},
   "outputs": [
    {
     "data": {
      "text/plain": [
       "2.8789631111912763"
      ]
     },
     "execution_count": 77,
     "metadata": {},
     "output_type": "execute_result"
    }
   ],
   "source": [
    "backtest_df['Profit'].mean()"
   ]
  },
  {
   "cell_type": "code",
   "execution_count": 78,
   "metadata": {},
   "outputs": [
    {
     "data": {
      "text/plain": [
       "299.0625317102065"
      ]
     },
     "execution_count": 78,
     "metadata": {},
     "output_type": "execute_result"
    }
   ],
   "source": [
    "backtest_df['Profit'].max()"
   ]
  },
  {
   "cell_type": "code",
   "execution_count": 79,
   "metadata": {},
   "outputs": [
    {
     "data": {
      "text/plain": [
       "-221.07223608417203"
      ]
     },
     "execution_count": 79,
     "metadata": {},
     "output_type": "execute_result"
    }
   ],
   "source": [
    "backtest_df['Profit'].min()"
   ]
  },
  {
   "cell_type": "code",
   "execution_count": 107,
   "metadata": {},
   "outputs": [
    {
     "data": {
      "text/plain": [
       "43.96168432518447"
      ]
     },
     "execution_count": 107,
     "metadata": {},
     "output_type": "execute_result"
    }
   ],
   "source": [
    "backtest_df['Profit'].std()"
   ]
  },
  {
   "cell_type": "code",
   "execution_count": 117,
   "metadata": {},
   "outputs": [
    {
     "data": {
      "image/png": "[encoded data removed]",
      "text/plain": [
       "<Figure size 1000x500 with 1 Axes>"
      ]
     },
     "metadata": {},
     "output_type": "display_data"
    }
   ],
   "source": [
    "#Plot Profit\n",
    "plt.figure(figsize=(10,5))\n",
    "plt.plot(backtest_df['Profit'], label='Long-Short', color='blue')\n",
    "plt.legend()\n",
    "plt.show()"
   ]
  },
  {
   "cell_type": "code",
   "execution_count": 116,
   "metadata": {},
   "outputs": [
    {
     "data": {
      "image/png": "[encoded data removed]",
      "text/plain": [
       "<Figure size 1000x500 with 1 Axes>"
      ]
     },
     "metadata": {},
     "output_type": "display_data"
    }
   ],
   "source": [
    "plt.figure(figsize=(10,5))\n",
    "plt.plot(backtest_df['Single Side'], label='Single Side', color='red')\n",
    "plt.legend()\n",
    "plt.show()"
   ]
  },
  {
   "cell_type": "code",
   "execution_count": 72,
   "metadata": {},
   "outputs": [
    {
     "data": {
      "text/plain": [
       "index     630\n",
       "開盤價       630\n",
       "收盤價       630\n",
       "0         630\n",
       "1         630\n",
       "Profit    630\n",
       "dtype: int64"
      ]
     },
     "execution_count": 72,
     "metadata": {},
     "output_type": "execute_result"
    }
   ],
   "source": [
    "backtest_df[backtest_df['Profit'] > 0].count()"
   ]
  },
  {
   "cell_type": "code",
   "execution_count": 37,
   "metadata": {},
   "outputs": [
    {
     "data": {
      "text/plain": [
       "(1191,)"
      ]
     },
     "execution_count": 37,
     "metadata": {},
     "output_type": "execute_result"
    }
   ],
   "source": [
    "model2.predict(X_test).shape"
   ]
  }
 ],
 "metadata": {
  "kernelspec": {
   "display_name": "Python 3",
   "language": "python",
   "name": "python3"
  },
  "language_info": {
   "codemirror_mode": {
    "name": "ipython",
    "version": 3
   },
   "file_extension": ".py",
   "mimetype": "text/x-python",
   "name": "python",
   "nbconvert_exporter": "python",
   "pygments_lexer": "ipython3",
   "version": "3.10.10"
  },
  "orig_nbformat": 4
 },
 "nbformat": 4,
 "nbformat_minor": 2
}
